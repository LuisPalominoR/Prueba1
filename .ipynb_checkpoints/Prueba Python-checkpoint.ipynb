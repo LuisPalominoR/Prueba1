{
 "cells": [
  {
   "cell_type": "markdown",
   "id": "064f8123-7ba9-493b-b885-1e777c0a6f42",
   "metadata": {},
   "source": [
    "Primer Código"
   ]
  },
  {
   "cell_type": "code",
   "execution_count": 1,
   "id": "83a9f966-ad8d-4428-99d6-7921828777f3",
   "metadata": {},
   "outputs": [],
   "source": [
    "a=20\n",
    "b=30\n",
    "c=a+b"
   ]
  },
  {
   "cell_type": "code",
   "execution_count": 2,
   "id": "7b6db579-a261-4ad8-87ee-049ce9c2d0aa",
   "metadata": {},
   "outputs": [
    {
     "data": {
      "text/plain": [
       "50"
      ]
     },
     "execution_count": 2,
     "metadata": {},
     "output_type": "execute_result"
    }
   ],
   "source": [
    "c"
   ]
  }
 ],
 "metadata": {
  "kernelspec": {
   "display_name": "Python 3 (ipykernel)",
   "language": "python",
   "name": "python3"
  },
  "language_info": {
   "codemirror_mode": {
    "name": "ipython",
    "version": 3
   },
   "file_extension": ".py",
   "mimetype": "text/x-python",
   "name": "python",
   "nbconvert_exporter": "python",
   "pygments_lexer": "ipython3",
   "version": "3.11.7"
  }
 },
 "nbformat": 4,
 "nbformat_minor": 5
}
