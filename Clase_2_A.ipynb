{
  "cells": [
    {
      "cell_type": "markdown",
      "metadata": {
        "id": "view-in-github",
        "colab_type": "text"
      },
      "source": [
        "<a href=\"https://colab.research.google.com/github/LuisPalominoR/Prueba1/blob/main/Clase_2_A.ipynb\" target=\"_parent\"><img src=\"https://colab.research.google.com/assets/colab-badge.svg\" alt=\"Open In Colab\"/></a>"
      ]
    },
    {
      "cell_type": "markdown",
      "metadata": {
        "id": "dCNCKJGxzErY"
      },
      "source": [
        "<a href=\"https://imgur.com/6U6q5jQ\"><img src=\"https://i.imgur.com/6U6q5jQ.png\" title=\"source: imgur.com\" /></a>"
      ]
    },
    {
      "cell_type": "markdown",
      "metadata": {
        "id": "Bb5P9oBJtWgi"
      },
      "source": [
        "<a target=\"_blank\" href=\"https://colab.research.google.com/github/PythonVersusR/basicDataStructures_lists/blob/main/R_Python_Lists.ipynb\">\n",
        "  <img src=\"https://colab.research.google.com/assets/colab-badge.svg\" alt=\"Open In Colab\"/>\n",
        "</a>\n",
        "\n",
        "\n",
        "# Lists in R and Python"
      ]
    },
    {
      "cell_type": "code",
      "execution_count": 45,
      "metadata": {
        "id": "CQ0-6XdK5Sre"
      },
      "outputs": [],
      "source": [
        "## if needed, run this and RESTART KERNEL\n",
        "# import os\n",
        "# os.environ['R_HOME'] ='/Library/Frameworks/R.framework/Resources'"
      ]
    },
    {
      "cell_type": "code",
      "execution_count": 46,
      "metadata": {
        "id": "oo3FOXWP6ewM",
        "colab": {
          "base_uri": "https://localhost:8080/"
        },
        "outputId": "bd5d936d-0355-4001-b0f2-418329e729b3"
      },
      "outputs": [
        {
          "output_type": "stream",
          "name": "stdout",
          "text": [
            "The rpy2.ipython extension is already loaded. To reload it, use:\n",
            "  %reload_ext rpy2.ipython\n"
          ]
        }
      ],
      "source": [
        "%load_ext rpy2.ipython"
      ]
    },
    {
      "cell_type": "markdown",
      "metadata": {
        "id": "ix7xtYzM7GsE"
      },
      "source": [
        "## 1. Creating"
      ]
    },
    {
      "cell_type": "code",
      "execution_count": 47,
      "metadata": {
        "id": "GHJeUsWetWgm"
      },
      "outputs": [],
      "source": [
        "namesP=[\"Qing\", \"Françoise\", \"Raúl\", \"Bjork\",\"Marie\",\"Jim\",\"Tere\",\"Tina\"]\n",
        "agesP=[32,33,28,30,29,33,34,27]\n",
        "countryP=[\"China\", \"Senegal\", \"España\", \"Norway\",\"Korea RP\",\"USA\",\"Bolivia\",\"Portugal\"]\n",
        "educationP=[\"Bach\", \"Bach\", \"Master\", \"PhD\",\"PhD\", \"Master\",\"Master\",\"PhD\"]"
      ]
    },
    {
      "cell_type": "code",
      "execution_count": 48,
      "metadata": {
        "id": "kHOybyYs7bt3",
        "outputId": "cba60877-6ad0-4ea4-c515-30c7c3ba346d",
        "colab": {
          "base_uri": "https://localhost:8080/"
        }
      },
      "outputs": [
        {
          "output_type": "execute_result",
          "data": {
            "text/plain": [
              "list"
            ]
          },
          "metadata": {},
          "execution_count": 48
        }
      ],
      "source": [
        "type(namesP)"
      ]
    },
    {
      "cell_type": "code",
      "execution_count": 49,
      "metadata": {
        "id": "bYQ8wWNQ6rSt",
        "outputId": "1b42d1e0-ca79-4494-ac52-bb1547fe3cbf",
        "colab": {
          "base_uri": "https://localhost:8080/"
        }
      },
      "outputs": [
        {
          "output_type": "execute_result",
          "data": {
            "text/plain": [
              "['Qing', 'Françoise', 'Raúl', 'Bjork', 'Marie', 'Jim', 'Tere', 'Tina']"
            ]
          },
          "metadata": {},
          "execution_count": 49
        }
      ],
      "source": [
        "namesP"
      ]
    },
    {
      "cell_type": "code",
      "execution_count": 50,
      "metadata": {
        "id": "dUxYQK6F5lks"
      },
      "outputs": [],
      "source": [
        "%%R\n",
        "namesR=list(\"Qing\", \"Françoise\", \"Raúl\", \"Bjork\",\"Marie\",\"Jim\",\"Tere\",\"Tina\")\n",
        "agesR=list(32,33,28,30,29,33,34,27)\n",
        "countryR=list(\"China\", \"Senegal\", \"España\", \"Norway\",\"Korea\",\"USA\",\"Bolivia\",\"Portugal\")\n",
        "educationR=list(\"Bach\", \"Bach\", \"Master\", \"PhD\",\"PhD\", \"Master\",\"Master\",\"PhD\")"
      ]
    },
    {
      "cell_type": "code",
      "execution_count": 51,
      "metadata": {
        "id": "RSJyun677gMs",
        "outputId": "f2157ee2-ca54-433f-e274-0ac7349ad602",
        "colab": {
          "base_uri": "https://localhost:8080/"
        }
      },
      "outputs": [
        {
          "output_type": "stream",
          "name": "stdout",
          "text": [
            "[1] \"list\"\n"
          ]
        }
      ],
      "source": [
        "%%R\n",
        "typeof(namesR)"
      ]
    },
    {
      "cell_type": "code",
      "execution_count": 52,
      "metadata": {
        "id": "9h7K4xpm6lzE",
        "outputId": "b7ae74c7-5ac9-411a-a4b9-92d9d000975e",
        "colab": {
          "base_uri": "https://localhost:8080/"
        }
      },
      "outputs": [
        {
          "output_type": "stream",
          "name": "stdout",
          "text": [
            "[[1]]\n",
            "[1] \"Qing\"\n",
            "\n",
            "[[2]]\n",
            "[1] \"Françoise\"\n",
            "\n",
            "[[3]]\n",
            "[1] \"Raúl\"\n",
            "\n",
            "[[4]]\n",
            "[1] \"Bjork\"\n",
            "\n",
            "[[5]]\n",
            "[1] \"Marie\"\n",
            "\n",
            "[[6]]\n",
            "[1] \"Jim\"\n",
            "\n",
            "[[7]]\n",
            "[1] \"Tere\"\n",
            "\n",
            "[[8]]\n",
            "[1] \"Tina\"\n",
            "\n"
          ]
        }
      ],
      "source": [
        "%%R\n",
        "namesR"
      ]
    },
    {
      "cell_type": "markdown",
      "metadata": {
        "id": "_y7hce_8tWgr"
      },
      "source": [
        "## 2. Accessing"
      ]
    },
    {
      "cell_type": "code",
      "execution_count": 53,
      "metadata": {
        "id": "Hp4CogsCtWgr",
        "outputId": "41ec379d-f6cf-4bff-cd7f-5de693aea322",
        "colab": {
          "base_uri": "https://localhost:8080/"
        }
      },
      "outputs": [
        {
          "output_type": "execute_result",
          "data": {
            "text/plain": [
              "32"
            ]
          },
          "metadata": {},
          "execution_count": 53
        }
      ],
      "source": [
        "# Keep in mind the positions in Python start in **0**.\n",
        "agesP[0]"
      ]
    },
    {
      "cell_type": "code",
      "execution_count": 54,
      "metadata": {
        "id": "LcIBAZEr7ml_",
        "outputId": "cd2b5eac-e998-44cc-e679-f4c7e28b1b40",
        "colab": {
          "base_uri": "https://localhost:8080/"
        }
      },
      "outputs": [
        {
          "output_type": "execute_result",
          "data": {
            "text/plain": [
              "int"
            ]
          },
          "metadata": {},
          "execution_count": 54
        }
      ],
      "source": [
        "type(agesP[0])"
      ]
    },
    {
      "cell_type": "code",
      "execution_count": 55,
      "metadata": {
        "id": "bZalkSyg7ozY",
        "outputId": "dde1ad05-9438-47ea-f6df-485c5d643f3b",
        "colab": {
          "base_uri": "https://localhost:8080/"
        }
      },
      "outputs": [
        {
          "output_type": "stream",
          "name": "stdout",
          "text": [
            "[1] 32\n"
          ]
        }
      ],
      "source": [
        "%%R\n",
        "agesR[[1]]"
      ]
    },
    {
      "cell_type": "code",
      "execution_count": 56,
      "metadata": {
        "id": "Z_DmJ2Cj7qic",
        "outputId": "08d34148-2fe4-4f47-ec06-7ea62d962c7a",
        "colab": {
          "base_uri": "https://localhost:8080/"
        }
      },
      "outputs": [
        {
          "output_type": "stream",
          "name": "stdout",
          "text": [
            "[1] \"double\"\n"
          ]
        }
      ],
      "source": [
        "%%R\n",
        "typeof(agesR[[1]])"
      ]
    },
    {
      "cell_type": "code",
      "execution_count": 57,
      "metadata": {
        "id": "hvaThvo_8-ZB",
        "outputId": "6a6da89c-6883-4bb0-cf7c-e8fa819279c2",
        "colab": {
          "base_uri": "https://localhost:8080/"
        }
      },
      "outputs": [
        {
          "output_type": "stream",
          "name": "stdout",
          "text": [
            "[[1]]\n",
            "[1] 32\n",
            "\n"
          ]
        }
      ],
      "source": [
        "%%R\n",
        "agesR[1]"
      ]
    },
    {
      "cell_type": "code",
      "execution_count": 58,
      "metadata": {
        "id": "1tUwi0-M82fp",
        "outputId": "f0fcbc64-d10d-4806-d156-1e3d0c16fa60",
        "colab": {
          "base_uri": "https://localhost:8080/"
        }
      },
      "outputs": [
        {
          "output_type": "stream",
          "name": "stdout",
          "text": [
            "[1] \"list\"\n"
          ]
        }
      ],
      "source": [
        "%%R\n",
        "typeof(agesR[1])"
      ]
    },
    {
      "cell_type": "code",
      "execution_count": 59,
      "metadata": {
        "id": "MuQtAvsH-rJw",
        "outputId": "c03fbde9-bce8-4ebe-a0c7-edcf1976635a",
        "colab": {
          "base_uri": "https://localhost:8080/",
          "height": 35
        }
      },
      "outputs": [
        {
          "output_type": "execute_result",
          "data": {
            "text/plain": [
              "'Portugal'"
            ],
            "application/vnd.google.colaboratory.intrinsic+json": {
              "type": "string"
            }
          },
          "metadata": {},
          "execution_count": 59
        }
      ],
      "source": [
        "#last element\n",
        "countryP[-1]"
      ]
    },
    {
      "cell_type": "code",
      "execution_count": 60,
      "metadata": {
        "id": "Ffzl7qci-yzx",
        "outputId": "2f59c538-e13a-41cf-ebe0-82fe992b99d3",
        "colab": {
          "base_uri": "https://localhost:8080/"
        }
      },
      "outputs": [
        {
          "output_type": "stream",
          "name": "stdout",
          "text": [
            "[[1]]\n",
            "[1] \"Portugal\"\n",
            "\n"
          ]
        }
      ],
      "source": [
        "%%R\n",
        "tail(countryR,1)"
      ]
    },
    {
      "cell_type": "markdown",
      "metadata": {
        "id": "hAq14dMo8TnG"
      },
      "source": [
        "### Slices"
      ]
    },
    {
      "cell_type": "code",
      "execution_count": 61,
      "metadata": {
        "id": "pa7c_1M1tWgv",
        "outputId": "f4b50042-ce95-44fc-982f-b4227a77f81b",
        "colab": {
          "base_uri": "https://localhost:8080/"
        }
      },
      "outputs": [
        {
          "output_type": "execute_result",
          "data": {
            "text/plain": [
              "[33, 28, 30]"
            ]
          },
          "metadata": {},
          "execution_count": 61
        }
      ],
      "source": [
        "# consecutive\n",
        "agesP[1:4] #second to fourth"
      ]
    },
    {
      "cell_type": "code",
      "execution_count": 62,
      "metadata": {
        "id": "AF942YnF8yc9",
        "outputId": "8bb72a77-9ef8-4f6a-d37a-a5a7bff495c3",
        "colab": {
          "base_uri": "https://localhost:8080/"
        }
      },
      "outputs": [
        {
          "output_type": "stream",
          "name": "stdout",
          "text": [
            "[[1]]\n",
            "[1] 33\n",
            "\n",
            "[[2]]\n",
            "[1] 28\n",
            "\n",
            "[[3]]\n",
            "[1] 30\n",
            "\n"
          ]
        }
      ],
      "source": [
        "%%R\n",
        "agesR[2:4]"
      ]
    },
    {
      "cell_type": "code",
      "execution_count": 63,
      "metadata": {
        "id": "XSO50xLN9MZB",
        "outputId": "8a0f10d5-cef8-4a2f-9fd7-8e657ea45094",
        "colab": {
          "base_uri": "https://localhost:8080/"
        }
      },
      "outputs": [
        {
          "output_type": "execute_result",
          "data": {
            "text/plain": [
              "[33, 30, 33, 27]"
            ]
          },
          "metadata": {},
          "execution_count": 63
        }
      ],
      "source": [
        "# non consecutive with step or pattern\n",
        "agesP[1:8:2] # second to eight step 2"
      ]
    },
    {
      "cell_type": "code",
      "execution_count": 64,
      "metadata": {
        "id": "J5V5_Cxl_Avj",
        "outputId": "8a4ee47d-e054-402e-dc65-48736b6822ef",
        "colab": {
          "base_uri": "https://localhost:8080/"
        }
      },
      "outputs": [
        {
          "output_type": "stream",
          "name": "stdout",
          "text": [
            "[[1]]\n",
            "[1] 33\n",
            "\n",
            "[[2]]\n",
            "[1] 30\n",
            "\n",
            "[[3]]\n",
            "[1] 33\n",
            "\n",
            "[[4]]\n",
            "[1] 27\n",
            "\n"
          ]
        }
      ],
      "source": [
        "%%R\n",
        "agesR[seq(2,8,2)]"
      ]
    },
    {
      "cell_type": "code",
      "execution_count": 65,
      "metadata": {
        "id": "p8h88eUjtWg1",
        "outputId": "cc043a75-3d38-47ed-bc1b-ad05048cad31",
        "colab": {
          "base_uri": "https://localhost:8080/"
        }
      },
      "outputs": [
        {
          "output_type": "execute_result",
          "data": {
            "text/plain": [
              "[32, 28, 30]"
            ]
          },
          "metadata": {},
          "execution_count": 65
        }
      ],
      "source": [
        "# non consecutive without step or pattern\n",
        "keepIndex=[0, 2, 3]\n",
        "[agesP[i] for i in keepIndex]\n"
      ]
    },
    {
      "cell_type": "code",
      "execution_count": 66,
      "metadata": {
        "id": "c8RpFx1dAEmz",
        "outputId": "aff5c128-c1bf-45fe-fbc5-f5949df99230",
        "colab": {
          "base_uri": "https://localhost:8080/"
        }
      },
      "outputs": [
        {
          "output_type": "stream",
          "name": "stdout",
          "text": [
            "[[1]]\n",
            "[1] 32\n",
            "\n",
            "[[2]]\n",
            "[1] 28\n",
            "\n",
            "[[3]]\n",
            "[1] 30\n",
            "\n"
          ]
        }
      ],
      "source": [
        "%%R\n",
        "agesR[c(1,3,4)]"
      ]
    },
    {
      "cell_type": "markdown",
      "metadata": {
        "id": "3HdLpDektWg6"
      },
      "source": [
        "## Replacing"
      ]
    },
    {
      "cell_type": "markdown",
      "metadata": {
        "id": "W9tJhxjeBMyX"
      },
      "source": [
        "### by Position"
      ]
    },
    {
      "cell_type": "code",
      "execution_count": 67,
      "metadata": {
        "id": "Q5mtP1j8tWg7",
        "outputId": "d6aa1a60-5a0f-4d4b-8d1a-0c142555301c",
        "colab": {
          "base_uri": "https://localhost:8080/"
        }
      },
      "outputs": [
        {
          "output_type": "execute_result",
          "data": {
            "text/plain": [
              "['China',\n",
              " 'Senegal',\n",
              " 'Spain',\n",
              " 'Norway',\n",
              " 'Korea RP',\n",
              " 'USA',\n",
              " 'Bolivia',\n",
              " 'Portugal']"
            ]
          },
          "metadata": {},
          "execution_count": 67
        }
      ],
      "source": [
        "countryP[2]=\"Spain\"\n",
        "\n",
        "# list changed:\n",
        "countryP"
      ]
    },
    {
      "cell_type": "code",
      "execution_count": 68,
      "metadata": {
        "id": "Bq1cr1VPBRJz",
        "outputId": "ea12dac4-c1f2-41c2-96ca-fee9cffeae73",
        "colab": {
          "base_uri": "https://localhost:8080/"
        }
      },
      "outputs": [
        {
          "output_type": "stream",
          "name": "stdout",
          "text": [
            "[[1]]\n",
            "[1] \"China\"\n",
            "\n",
            "[[2]]\n",
            "[1] \"Senegal\"\n",
            "\n",
            "[[3]]\n",
            "[1] \"Spain\"\n",
            "\n",
            "[[4]]\n",
            "[1] \"Norway\"\n",
            "\n",
            "[[5]]\n",
            "[1] \"Korea\"\n",
            "\n",
            "[[6]]\n",
            "[1] \"USA\"\n",
            "\n",
            "[[7]]\n",
            "[1] \"Bolivia\"\n",
            "\n",
            "[[8]]\n",
            "[1] \"Portugal\"\n",
            "\n"
          ]
        }
      ],
      "source": [
        "%%R\n",
        "countryR[[3]]=\"Spain\"\n",
        "\n",
        "# list changed:\n",
        "countryR"
      ]
    },
    {
      "cell_type": "markdown",
      "metadata": {
        "id": "i3KudD3Don96"
      },
      "source": [
        "### By Value"
      ]
    },
    {
      "cell_type": "code",
      "execution_count": 69,
      "metadata": {
        "id": "Nf9PJWMjqiNI",
        "outputId": "98d422cd-8fc6-4867-8105-f39e9c933d34",
        "colab": {
          "base_uri": "https://localhost:8080/"
        }
      },
      "outputs": [
        {
          "output_type": "execute_result",
          "data": {
            "text/plain": [
              "['PR China',\n",
              " 'Senegal',\n",
              " 'Spain',\n",
              " 'Norway',\n",
              " 'Korea RP',\n",
              " 'USA',\n",
              " 'Bolivia',\n",
              " 'Portugal']"
            ]
          },
          "metadata": {},
          "execution_count": 69
        }
      ],
      "source": [
        "\n",
        "countryP[countryP==\"China\"]=\"PR China\"\n",
        "countryP"
      ]
    },
    {
      "cell_type": "code",
      "execution_count": 70,
      "metadata": {
        "id": "ZozgXyECpjy2",
        "outputId": "cf0de38b-71c4-4126-af47-54d99600ce31",
        "colab": {
          "base_uri": "https://localhost:8080/"
        }
      },
      "outputs": [
        {
          "output_type": "stream",
          "name": "stdout",
          "text": [
            "[[1]]\n",
            "[1] \"PR China\"\n",
            "\n",
            "[[2]]\n",
            "[1] \"Senegal\"\n",
            "\n",
            "[[3]]\n",
            "[1] \"Spain\"\n",
            "\n",
            "[[4]]\n",
            "[1] \"Norway\"\n",
            "\n",
            "[[5]]\n",
            "[1] \"Korea\"\n",
            "\n",
            "[[6]]\n",
            "[1] \"USA\"\n",
            "\n",
            "[[7]]\n",
            "[1] \"Bolivia\"\n",
            "\n",
            "[[8]]\n",
            "[1] \"Portugal\"\n",
            "\n"
          ]
        }
      ],
      "source": [
        "%%R\n",
        "countryR[countryR=='China']=\"PR China\"\n",
        "countryR"
      ]
    },
    {
      "cell_type": "markdown",
      "metadata": {
        "id": "_CF8wYu0tWhH"
      },
      "source": [
        "## Deleting"
      ]
    },
    {
      "cell_type": "markdown",
      "metadata": {
        "id": "bjYzRXv2rB2r"
      },
      "source": [
        "### By Position"
      ]
    },
    {
      "cell_type": "code",
      "execution_count": 71,
      "metadata": {
        "id": "ghWSnmzftWhH",
        "outputId": "7dedf2e2-f8fb-49bb-b18b-236880a0619c",
        "colab": {
          "base_uri": "https://localhost:8080/"
        }
      },
      "outputs": [
        {
          "output_type": "execute_result",
          "data": {
            "text/plain": [
              "['PR China', 'Senegal', 'Spain', 'Norway', 'Korea RP', 'USA', 'Bolivia']"
            ]
          },
          "metadata": {},
          "execution_count": 71
        }
      ],
      "source": [
        "del countryP[-1] #last value\n",
        "\n",
        "# list changed:\n",
        "countryP"
      ]
    },
    {
      "cell_type": "code",
      "execution_count": 72,
      "metadata": {
        "id": "h6UsIzY5tIgY",
        "outputId": "878a323e-23f3-4b1e-f286-d6648df2e296",
        "colab": {
          "base_uri": "https://localhost:8080/"
        }
      },
      "outputs": [
        {
          "output_type": "stream",
          "name": "stdout",
          "text": [
            "[[1]]\n",
            "[1] \"PR China\"\n",
            "\n",
            "[[2]]\n",
            "[1] \"Senegal\"\n",
            "\n",
            "[[3]]\n",
            "[1] \"Spain\"\n",
            "\n",
            "[[4]]\n",
            "[1] \"Norway\"\n",
            "\n",
            "[[5]]\n",
            "[1] \"Korea\"\n",
            "\n",
            "[[6]]\n",
            "[1] \"USA\"\n",
            "\n",
            "[[7]]\n",
            "[1] \"Bolivia\"\n",
            "\n"
          ]
        }
      ],
      "source": [
        "%%R\n",
        "countryR[length(countryR)]=NULL\n",
        "countryR"
      ]
    },
    {
      "cell_type": "code",
      "execution_count": 73,
      "metadata": {
        "id": "EVla5Ov2tWhM",
        "outputId": "c959a42e-2156-421e-c0f9-b2512c7bab1a",
        "colab": {
          "base_uri": "https://localhost:8080/"
        }
      },
      "outputs": [
        {
          "output_type": "execute_result",
          "data": {
            "text/plain": [
              "[1, 5, 6]"
            ]
          },
          "metadata": {},
          "execution_count": 73
        }
      ],
      "source": [
        "# 'del' works for several positions\n",
        "\n",
        "listP=[1,2,3,4,5,6]\n",
        "del listP[1:4]\n",
        "\n",
        "#now:\n",
        "listP"
      ]
    },
    {
      "cell_type": "code",
      "execution_count": 74,
      "metadata": {
        "id": "hquozQUutoXe",
        "outputId": "ca9f3e46-66b3-4688-eb38-eb019a1321a6",
        "colab": {
          "base_uri": "https://localhost:8080/"
        }
      },
      "outputs": [
        {
          "output_type": "stream",
          "name": "stdout",
          "text": [
            "[[1]]\n",
            "[1] 1\n",
            "\n",
            "[[2]]\n",
            "[1] 5\n",
            "\n",
            "[[3]]\n",
            "[1] 6\n",
            "\n"
          ]
        }
      ],
      "source": [
        "%%R\n",
        "\n",
        "listR=list(1,2,3,4,5,6)\n",
        "listR[2:4]=NULL\n",
        "\n",
        "#now:\n",
        "listR"
      ]
    },
    {
      "cell_type": "code",
      "execution_count": 75,
      "metadata": {
        "id": "4Sc0LyKDuJoz",
        "outputId": "c269e45a-4200-46f7-e10a-23be830e0d84",
        "colab": {
          "base_uri": "https://localhost:8080/"
        }
      },
      "outputs": [
        {
          "output_type": "execute_result",
          "data": {
            "text/plain": [
              "[10, 30, 50]"
            ]
          },
          "metadata": {},
          "execution_count": 75
        }
      ],
      "source": [
        "# non consecutive\n",
        "listP=[10,11,30,33,50,55]\n",
        "byeIndex=[1, 3, 5]\n",
        "listP=[listP[i] for i in range(len(listP)) if not i in byeIndex]\n",
        "listP"
      ]
    },
    {
      "cell_type": "code",
      "execution_count": 76,
      "metadata": {
        "id": "A38KkgtGvpdv",
        "outputId": "56157e77-c3c1-4a66-e785-da35fce54e8f",
        "colab": {
          "base_uri": "https://localhost:8080/"
        }
      },
      "outputs": [
        {
          "output_type": "stream",
          "name": "stdout",
          "text": [
            "[[1]]\n",
            "[1] 11\n",
            "\n",
            "[[2]]\n",
            "[1] 33\n",
            "\n",
            "[[3]]\n",
            "[1] 55\n",
            "\n"
          ]
        }
      ],
      "source": [
        "%%R\n",
        "listR=list(11,22,33,44,55,66)\n",
        "listR[c(2,4,6)]=NULL\n",
        "listR"
      ]
    },
    {
      "cell_type": "markdown",
      "metadata": {
        "id": "rz-SxbVDyI_5"
      },
      "source": [
        "### by Value"
      ]
    },
    {
      "cell_type": "code",
      "execution_count": 77,
      "metadata": {
        "id": "kQCwXCw3tWhO",
        "outputId": "2096a98f-6b3e-41b9-f91b-1d52f2143d62",
        "colab": {
          "base_uri": "https://localhost:8080/"
        }
      },
      "outputs": [
        {
          "output_type": "execute_result",
          "data": {
            "text/plain": [
              "[1, 45, 'b', 'a']"
            ]
          },
          "metadata": {},
          "execution_count": 77
        }
      ],
      "source": [
        "# by value\n",
        "listP=[1,'a',45,'b','a']\n",
        "listP.remove('a')\n",
        "\n",
        "# list changed:\n",
        "listP # just first ocurrence of value!!"
      ]
    },
    {
      "cell_type": "code",
      "execution_count": 78,
      "metadata": {
        "id": "GUi3v8hqtWhU",
        "outputId": "eb146ad0-e4eb-4601-abac-bae3d286b9d3",
        "colab": {
          "base_uri": "https://localhost:8080/"
        }
      },
      "outputs": [
        {
          "output_type": "execute_result",
          "data": {
            "text/plain": [
              "[1, 45, 'b']"
            ]
          },
          "metadata": {},
          "execution_count": 78
        }
      ],
      "source": [
        "# deleting every  value:\n",
        "\n",
        "listP=[1,'a',45,'b','a']\n",
        "listP=[p for p in listP if not p in ['a']]\n",
        "\n",
        "# you get:\n",
        "listP"
      ]
    },
    {
      "cell_type": "code",
      "execution_count": 79,
      "metadata": {
        "id": "fSrbGThNzuxk",
        "outputId": "67856c10-b3a0-4169-ffa8-6fa1d7c94bb0",
        "colab": {
          "base_uri": "https://localhost:8080/"
        }
      },
      "outputs": [
        {
          "output_type": "stream",
          "name": "stdout",
          "text": [
            "[[1]]\n",
            "[1] 1\n",
            "\n",
            "[[2]]\n",
            "[1] 45\n",
            "\n",
            "[[3]]\n",
            "[1] \"b\"\n",
            "\n"
          ]
        }
      ],
      "source": [
        "%%R\n",
        "\n",
        "listR=list(1,'a',45,'b','a')\n",
        "listR=listR[!listR %in% list('a')]\n",
        "listR\n"
      ]
    },
    {
      "cell_type": "markdown",
      "metadata": {
        "id": "JzcKbpXptWhX"
      },
      "source": [
        "## Inserting values"
      ]
    },
    {
      "cell_type": "code",
      "execution_count": 80,
      "metadata": {
        "id": "or5OmtestWhY",
        "outputId": "9693a3fe-f0bc-400b-c381-294f0fcf99ba",
        "colab": {
          "base_uri": "https://localhost:8080/"
        }
      },
      "outputs": [
        {
          "output_type": "execute_result",
          "data": {
            "text/plain": [
              "[1, 'a', 45, 'b', 'a', 'cde']"
            ]
          },
          "metadata": {},
          "execution_count": 80
        }
      ],
      "source": [
        "# at the end\n",
        "listP=[1,'a',45,'b','a']\n",
        "listP.append(\"cde\")\n",
        "listP"
      ]
    },
    {
      "cell_type": "code",
      "execution_count": 81,
      "metadata": {
        "id": "QCiOC5fG3O42",
        "outputId": "b85e2bf4-e939-4f24-970a-81ad672c7217",
        "colab": {
          "base_uri": "https://localhost:8080/"
        }
      },
      "outputs": [
        {
          "output_type": "stream",
          "name": "stdout",
          "text": [
            "[[1]]\n",
            "[1] 1\n",
            "\n",
            "[[2]]\n",
            "[1] \"a\"\n",
            "\n",
            "[[3]]\n",
            "[1] 45\n",
            "\n",
            "[[4]]\n",
            "[1] \"b\"\n",
            "\n",
            "[[5]]\n",
            "[1] \"a\"\n",
            "\n",
            "[[6]]\n",
            "[1] \"cde\"\n",
            "\n"
          ]
        }
      ],
      "source": [
        "%%R\n",
        "listR=list(1,'a',45,'b','a')\n",
        "listR=append(listR,'cde')\n",
        "listR"
      ]
    },
    {
      "cell_type": "code",
      "execution_count": 82,
      "metadata": {
        "id": "GB4IycLs32Ya",
        "outputId": "aad3b35b-0a18-4721-df98-0144eb21bfdb",
        "colab": {
          "base_uri": "https://localhost:8080/"
        }
      },
      "outputs": [
        {
          "output_type": "execute_result",
          "data": {
            "text/plain": [
              "[1, 'a', 'cde', 45, 'b', 'a']"
            ]
          },
          "metadata": {},
          "execution_count": 82
        }
      ],
      "source": [
        "# specific position\n",
        "listP=[1,'a',45,'b','a']\n",
        "listP.insert(2,\"cde\")\n",
        "listP"
      ]
    },
    {
      "cell_type": "code",
      "execution_count": 83,
      "metadata": {
        "id": "IcP2en363_ii",
        "outputId": "7c32f2a6-95f8-450f-c4bc-9006a72ec341",
        "colab": {
          "base_uri": "https://localhost:8080/"
        }
      },
      "outputs": [
        {
          "output_type": "stream",
          "name": "stdout",
          "text": [
            "[[1]]\n",
            "[1] 1\n",
            "\n",
            "[[2]]\n",
            "[1] \"a\"\n",
            "\n",
            "[[3]]\n",
            "[1] \"cde\"\n",
            "\n",
            "[[4]]\n",
            "[1] 45\n",
            "\n",
            "[[5]]\n",
            "[1] \"b\"\n",
            "\n",
            "[[6]]\n",
            "[1] \"a\"\n",
            "\n"
          ]
        }
      ],
      "source": [
        "%%R\n",
        "listR=list(1,'a',45,'b','a')\n",
        "listR=append(listR,'cde',after=2)\n",
        "listR"
      ]
    },
    {
      "cell_type": "markdown",
      "metadata": {
        "id": "ceqfkORcK9vt"
      },
      "source": [
        "## Concatenating"
      ]
    },
    {
      "cell_type": "code",
      "execution_count": 84,
      "metadata": {
        "id": "4nFczku8K_3k",
        "outputId": "257de264-e697-45c0-926b-40c69fbbb1d0",
        "colab": {
          "base_uri": "https://localhost:8080/"
        }
      },
      "outputs": [
        {
          "output_type": "execute_result",
          "data": {
            "text/plain": [
              "[1, 2, 3, 'a', 'b', 'c']"
            ]
          },
          "metadata": {},
          "execution_count": 84
        }
      ],
      "source": [
        "listA_P=[1,2,3]\n",
        "listB_P=['a', 'b', 'c']\n",
        "listA_P + listB_P"
      ]
    },
    {
      "cell_type": "code",
      "execution_count": 85,
      "metadata": {
        "id": "gvCtdID3bgm-",
        "outputId": "ad15d21b-a212-4113-df27-c0c9bb7ba7bd",
        "colab": {
          "base_uri": "https://localhost:8080/"
        }
      },
      "outputs": [
        {
          "output_type": "execute_result",
          "data": {
            "text/plain": [
              "[1, 2, 3, 'a', 'b', 'c']"
            ]
          },
          "metadata": {},
          "execution_count": 85
        }
      ],
      "source": [
        "listA2_P=[1,2,3]\n",
        "listB2_P=['a', 'b', 'c']\n",
        "listA2_P.extend(listB2_P)\n",
        "listA2_P"
      ]
    },
    {
      "cell_type": "code",
      "execution_count": 86,
      "metadata": {
        "id": "hajS5MgJLRj9",
        "outputId": "58cc149c-c8c0-4b53-8cfc-96680630ab3a",
        "colab": {
          "base_uri": "https://localhost:8080/"
        }
      },
      "outputs": [
        {
          "output_type": "stream",
          "name": "stdout",
          "text": [
            "[[1]]\n",
            "[1] 1\n",
            "\n",
            "[[2]]\n",
            "[1] 2\n",
            "\n",
            "[[3]]\n",
            "[1] 3\n",
            "\n",
            "[[4]]\n",
            "[1] \"a\"\n",
            "\n",
            "[[5]]\n",
            "[1] \"b\"\n",
            "\n",
            "[[6]]\n",
            "[1] \"c\"\n",
            "\n"
          ]
        }
      ],
      "source": [
        "%%R\n",
        "listA_R=list(1,2,3)\n",
        "listB_R=list('a', 'b', 'c')\n",
        "append(listA_R, listB_R)"
      ]
    },
    {
      "cell_type": "code",
      "execution_count": 87,
      "metadata": {
        "id": "buD_S1X6MUje",
        "outputId": "31597d94-5be1-4653-f7b2-bc3f92301e03",
        "colab": {
          "base_uri": "https://localhost:8080/"
        }
      },
      "outputs": [
        {
          "output_type": "execute_result",
          "data": {
            "text/plain": [
              "[1, 2, 3, ['a', 'b', 'c']]"
            ]
          },
          "metadata": {},
          "execution_count": 87
        }
      ],
      "source": [
        "#notice\n",
        "listA1_P=[1,2,3]\n",
        "listB1_P=['a', 'b', 'c']\n",
        "listA1_P.append(listB1_P)\n",
        "listA1_P"
      ]
    },
    {
      "cell_type": "code",
      "execution_count": 88,
      "metadata": {
        "id": "MxaH2JXNLggB",
        "outputId": "b8cbc8f0-87f8-44d2-d2e7-00e572e94da9",
        "colab": {
          "base_uri": "https://localhost:8080/"
        }
      },
      "outputs": [
        {
          "output_type": "stream",
          "name": "stdout",
          "text": [
            "[[1]]\n",
            "[1] 1\n",
            "\n",
            "[[2]]\n",
            "[1] 2\n",
            "\n",
            "[[3]]\n",
            "[1] 3\n",
            "\n",
            "[[4]]\n",
            "[[4]][[1]]\n",
            "[1] \"a\"\n",
            "\n",
            "[[4]][[2]]\n",
            "[1] \"b\"\n",
            "\n",
            "[[4]][[3]]\n",
            "[1] \"c\"\n",
            "\n",
            "\n"
          ]
        }
      ],
      "source": [
        "%%R\n",
        "append(listA_R, list(listB_R))"
      ]
    }
  ],
  "metadata": {
    "anaconda-cloud": {
      "attach-environment": true,
      "summary": "test"
    },
    "colab": {
      "provenance": [],
      "include_colab_link": true
    },
    "hide_input": false,
    "kernelspec": {
      "display_name": "Python 3 (ipykernel)",
      "language": "python",
      "name": "python3"
    },
    "language_info": {
      "codemirror_mode": {
        "name": "ipython",
        "version": 3
      },
      "file_extension": ".py",
      "mimetype": "text/x-python",
      "name": "python",
      "nbconvert_exporter": "python",
      "pygments_lexer": "ipython3",
      "version": "3.12.0"
    }
  },
  "nbformat": 4,
  "nbformat_minor": 0
}