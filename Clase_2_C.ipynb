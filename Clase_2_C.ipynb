{
  "cells": [
    {
      "cell_type": "markdown",
      "metadata": {
        "id": "view-in-github",
        "colab_type": "text"
      },
      "source": [
        "<a href=\"https://colab.research.google.com/github/LuisPalominoR/Prueba1/blob/main/Clase_2_C.ipynb\" target=\"_parent\"><img src=\"https://colab.research.google.com/assets/colab-badge.svg\" alt=\"Open In Colab\"/></a>"
      ]
    },
    {
      "cell_type": "markdown",
      "metadata": {
        "id": "A99oR4c8FZud"
      },
      "source": [
        "<img src=\"https://i.imgur.com/6U6q5jQ.png\"/>\n",
        "\n",
        "\n",
        "<a target=\"_blank\" href=\"https://colab.research.google.com/github/PythonVersusR/basicDataStructures_sets/blob/main/Python_R_Sets.ipynb\">\n",
        "  <img src=\"https://colab.research.google.com/assets/colab-badge.svg\" alt=\"Open In Colab\"/>\n",
        "</a>\n",
        "\n",
        "# Sets in Python"
      ]
    },
    {
      "cell_type": "code",
      "execution_count": 2,
      "metadata": {
        "id": "tJaVihhSFZuf"
      },
      "outputs": [],
      "source": [
        "## if needed, run this and RESTART KERNEL\n",
        "#import os\n",
        "#os.environ['R_HOME'] ='/Library/Frameworks/R.framework/Resources'"
      ]
    },
    {
      "cell_type": "code",
      "execution_count": 3,
      "metadata": {
        "id": "_efl4FU7igh_",
        "colab": {
          "base_uri": "https://localhost:8080/"
        },
        "outputId": "64f97bac-3fbe-4f07-e2f4-4996c87ff12e"
      },
      "outputs": [
        {
          "output_type": "stream",
          "name": "stdout",
          "text": [
            "The rpy2.ipython extension is already loaded. To reload it, use:\n",
            "  %reload_ext rpy2.ipython\n"
          ]
        }
      ],
      "source": [
        "%load_ext rpy2.ipython"
      ]
    },
    {
      "cell_type": "markdown",
      "metadata": {
        "id": "ix7xtYzM7GsE"
      },
      "source": [
        "## 1. Creating"
      ]
    },
    {
      "cell_type": "code",
      "execution_count": 4,
      "metadata": {
        "id": "2ffBcMUO4W6D",
        "colab": {
          "base_uri": "https://localhost:8080/"
        },
        "outputId": "8b680d50-5bc5-473e-a8cf-b4103ebf395f"
      },
      "outputs": [
        {
          "output_type": "execute_result",
          "data": {
            "text/plain": [
              "{1, 2, 3, 4, 5, 6}"
            ]
          },
          "metadata": {},
          "execution_count": 4
        }
      ],
      "source": [
        "aSet={1,6,2,3,4,4,4,5}\n",
        "\n",
        "# then\n",
        "aSet"
      ]
    },
    {
      "cell_type": "markdown",
      "metadata": {
        "id": "yBEwwScRd8IL"
      },
      "source": [
        "Notice that **sets** do not allow duplicates, and show ordering of values."
      ]
    },
    {
      "cell_type": "markdown",
      "metadata": {
        "id": "XW-l5zTaAonr"
      },
      "source": [
        "## 2. Accessing"
      ]
    },
    {
      "cell_type": "markdown",
      "metadata": {
        "id": "9WfrgZlD4bMn"
      },
      "source": [
        "You can not use indexes in sets."
      ]
    },
    {
      "cell_type": "code",
      "execution_count": 5,
      "metadata": {
        "id": "KQrycQe_4hd2"
      },
      "outputs": [],
      "source": [
        "#aSet[1]"
      ]
    },
    {
      "cell_type": "code",
      "execution_count": 6,
      "metadata": {
        "id": "vY3DDSJs4mU2",
        "colab": {
          "base_uri": "https://localhost:8080/"
        },
        "outputId": "71e3f621-19d0-418d-ecfc-b987cee94d4b"
      },
      "outputs": [
        {
          "output_type": "execute_result",
          "data": {
            "text/plain": [
              "2"
            ]
          },
          "metadata": {},
          "execution_count": 6
        }
      ],
      "source": [
        "#you would need a list:\n",
        "list(aSet)[1]"
      ]
    },
    {
      "cell_type": "markdown",
      "metadata": {
        "id": "lvVhUDHpBzhM"
      },
      "source": [
        "## 2. Replacing"
      ]
    },
    {
      "cell_type": "markdown",
      "metadata": {
        "id": "tfywvzW8j_8j"
      },
      "source": [
        "You would need to rewrite or delete/add an element:"
      ]
    },
    {
      "cell_type": "code",
      "execution_count": 7,
      "metadata": {
        "id": "a8_TaUeaB-KL",
        "colab": {
          "base_uri": "https://localhost:8080/"
        },
        "outputId": "157221c5-0020-44ae-c372-684e5edcda7e"
      },
      "outputs": [
        {
          "output_type": "execute_result",
          "data": {
            "text/plain": [
              "{1, 4, 9, 16}"
            ]
          },
          "metadata": {},
          "execution_count": 7
        }
      ],
      "source": [
        "# rewriting\n",
        "bSet={1,2,3,4}\n",
        "bSet=set(x**2 for x in bSet)\n",
        "bSet"
      ]
    },
    {
      "cell_type": "code",
      "execution_count": 8,
      "metadata": {
        "id": "YJKl01mwkZBs",
        "colab": {
          "base_uri": "https://localhost:8080/"
        },
        "outputId": "4475c30e-cad0-4b74-d47e-d54b045327a7"
      },
      "outputs": [
        {
          "output_type": "execute_result",
          "data": {
            "text/plain": [
              "{'a', 'b', 'c'}"
            ]
          },
          "metadata": {},
          "execution_count": 8
        }
      ],
      "source": [
        "cSet={'a','b','cc'}\n",
        "cSet.remove('cc')\n",
        "cSet.add('c')\n",
        "cSet"
      ]
    },
    {
      "cell_type": "markdown",
      "metadata": {
        "id": "7zjqtGb8Ck6G"
      },
      "source": [
        "## 3. Deleting"
      ]
    },
    {
      "cell_type": "code",
      "execution_count": 9,
      "metadata": {
        "id": "ZM9dCqCKlYmV"
      },
      "outputs": [],
      "source": [
        "#dSet={1,2,3,'a','b','c'}\n",
        "#dSet.remove('d') #will not work"
      ]
    },
    {
      "cell_type": "code",
      "execution_count": 10,
      "metadata": {
        "id": "UxZ_sEJUlkuZ",
        "colab": {
          "base_uri": "https://localhost:8080/"
        },
        "outputId": "eaed20c6-6b7d-42e7-cefc-41758ee894b6"
      },
      "outputs": [
        {
          "output_type": "execute_result",
          "data": {
            "text/plain": [
              "{1, 2, 3, 'a', 'b', 'c'}"
            ]
          },
          "metadata": {},
          "execution_count": 10
        }
      ],
      "source": [
        "dSet={1,2,3,'a','b','c'}\n",
        "dSet.discard('d')\n",
        "dSet"
      ]
    },
    {
      "cell_type": "code",
      "execution_count": 11,
      "metadata": {
        "id": "u93ck_VNmOlf",
        "colab": {
          "base_uri": "https://localhost:8080/"
        },
        "outputId": "4d60da70-a022-44f3-9bc0-cc849d3f9f7f"
      },
      "outputs": [
        {
          "output_type": "execute_result",
          "data": {
            "text/plain": [
              "{1, 3, 'a', 'c'}"
            ]
          },
          "metadata": {},
          "execution_count": 11
        }
      ],
      "source": [
        "dSet={1,2,3,'a','b','c'}\n",
        "toDelete = [2,40,'b']\n",
        "\n",
        "# keep what is not in toDelete\n",
        "dSet.difference_update(toDelete)\n",
        "dSet"
      ]
    },
    {
      "cell_type": "markdown",
      "metadata": {
        "id": "-jXtOW0eRUOT"
      },
      "source": [
        "Notice the diference for deleting a set:"
      ]
    },
    {
      "cell_type": "code",
      "execution_count": 12,
      "metadata": {
        "id": "mjS6Ti1kRMa8",
        "colab": {
          "base_uri": "https://localhost:8080/"
        },
        "outputId": "73c49fa4-dd73-48ae-b390-55077163d8ae"
      },
      "outputs": [
        {
          "output_type": "execute_result",
          "data": {
            "text/plain": [
              "set()"
            ]
          },
          "metadata": {},
          "execution_count": 12
        }
      ],
      "source": [
        "dSet.clear()\n",
        "dSet #empty the set"
      ]
    },
    {
      "cell_type": "code",
      "execution_count": 13,
      "metadata": {
        "id": "qzfaIy0kRScs"
      },
      "outputs": [],
      "source": [
        "#del cSet\n",
        "#cSet #get rid of set"
      ]
    },
    {
      "cell_type": "markdown",
      "metadata": {
        "id": "dD0Lb3LJTWVp"
      },
      "source": [
        "## 5. Inserting"
      ]
    },
    {
      "cell_type": "code",
      "execution_count": 14,
      "metadata": {
        "id": "bKuATgHzRchr",
        "colab": {
          "base_uri": "https://localhost:8080/"
        },
        "outputId": "8dfca9eb-7e0d-4d32-b1af-8abffe12ad9f"
      },
      "outputs": [
        {
          "output_type": "execute_result",
          "data": {
            "text/plain": [
              "{'a', 'b', 'cc', 'dd'}"
            ]
          },
          "metadata": {},
          "execution_count": 14
        }
      ],
      "source": [
        "cSet={'a','b','cc'}\n",
        "cSet.update(('dd',))\n",
        "cSet"
      ]
    },
    {
      "cell_type": "code",
      "execution_count": 15,
      "metadata": {
        "id": "RtOSulXTTeSm",
        "colab": {
          "base_uri": "https://localhost:8080/"
        },
        "outputId": "226c689f-5008-4e86-9c5a-cff121296f6b"
      },
      "outputs": [
        {
          "output_type": "execute_result",
          "data": {
            "text/plain": [
              "{'a', 'b', 'cc', 'dd', 'ee'}"
            ]
          },
          "metadata": {},
          "execution_count": 15
        }
      ],
      "source": [
        "cSet={'a','b','cc'}\n",
        "cSet.update(('dd','ee'))\n",
        "cSet"
      ]
    },
    {
      "cell_type": "markdown",
      "metadata": {
        "id": "CVGWKH2DRg4t"
      },
      "source": [
        "## Other operations"
      ]
    },
    {
      "cell_type": "markdown",
      "metadata": {
        "id": "XDvC3-PZR_f7"
      },
      "source": [
        "If we have these sets:"
      ]
    },
    {
      "cell_type": "code",
      "execution_count": 16,
      "metadata": {
        "id": "QUOCC2LJSCqd"
      },
      "outputs": [],
      "source": [
        "set1={'a','b','c','d'}\n",
        "set2={1,2,3,4}\n",
        "set3={'a',2,3,'d'}"
      ]
    },
    {
      "cell_type": "markdown",
      "metadata": {
        "id": "eiXgIvvJST7O"
      },
      "source": [
        "We could use:"
      ]
    },
    {
      "cell_type": "code",
      "execution_count": 17,
      "metadata": {
        "id": "aNikvAJgRjl2",
        "colab": {
          "base_uri": "https://localhost:8080/"
        },
        "outputId": "f0ecb03a-e754-46fa-827e-e802f14ddbd3"
      },
      "outputs": [
        {
          "output_type": "execute_result",
          "data": {
            "text/plain": [
              "{1, 2, 3, 4, 'a', 'b', 'c', 'd'}"
            ]
          },
          "metadata": {},
          "execution_count": 17
        }
      ],
      "source": [
        "# union\n",
        "set4=set1|set2\n",
        "set4"
      ]
    },
    {
      "cell_type": "code",
      "execution_count": 18,
      "metadata": {
        "id": "trGF-kChSZn6",
        "colab": {
          "base_uri": "https://localhost:8080/"
        },
        "outputId": "58523c76-69bb-4fb5-9351-90ca788bf341"
      },
      "outputs": [
        {
          "output_type": "execute_result",
          "data": {
            "text/plain": [
              "{'a', 'd'}"
            ]
          },
          "metadata": {},
          "execution_count": 18
        }
      ],
      "source": [
        "#intersection\n",
        "set5=set1&set3\n",
        "set5"
      ]
    },
    {
      "cell_type": "code",
      "execution_count": 19,
      "metadata": {
        "id": "TZYrio8rSqnH",
        "colab": {
          "base_uri": "https://localhost:8080/"
        },
        "outputId": "8f08839e-b70b-41e4-fa75-bc9bb0ff1320"
      },
      "outputs": [
        {
          "output_type": "execute_result",
          "data": {
            "text/plain": [
              "{1, 4}"
            ]
          },
          "metadata": {},
          "execution_count": 19
        }
      ],
      "source": [
        "# difference:\n",
        "# set of all the elements to the left that are not present in the right\n",
        "set6=set2-set3\n",
        "set6\n"
      ]
    },
    {
      "cell_type": "code",
      "execution_count": 20,
      "metadata": {
        "id": "aBj0u4JKT5SU",
        "colab": {
          "base_uri": "https://localhost:8080/"
        },
        "outputId": "7f79a951-2470-4eda-b1d3-2aefd15cde81"
      },
      "outputs": [
        {
          "output_type": "execute_result",
          "data": {
            "text/plain": [
              "{1, 4, 'a', 'd'}"
            ]
          },
          "metadata": {},
          "execution_count": 20
        }
      ],
      "source": [
        "# symmetric difference\n",
        "# set of elements that are either in the first set or the second set\n",
        "# but not in both.\n",
        "\n",
        "set7=set2^set3\n",
        "set7"
      ]
    },
    {
      "cell_type": "markdown",
      "metadata": {
        "id": "XYjPbmiGij69"
      },
      "source": [
        "# Sets in R\n",
        "\n",
        "R does not have a set data structure, but it has _set_ operations for vectors:"
      ]
    },
    {
      "cell_type": "code",
      "execution_count": 21,
      "metadata": {
        "id": "MsBwt4EmXD0k"
      },
      "outputs": [],
      "source": [
        "%%R\n",
        "\n",
        "# some vectors\n",
        "\n",
        "set1R=c('a','b','c','d')\n",
        "set2R=c(1,2,3,4)\n",
        "set3R=c('a',2,3,'d')\n",
        "\n"
      ]
    },
    {
      "cell_type": "code",
      "execution_count": 22,
      "metadata": {
        "id": "U_-grWqyXr4V",
        "colab": {
          "base_uri": "https://localhost:8080/"
        },
        "outputId": "3e0bab1d-d2bb-4031-e685-5db2e29149fa"
      },
      "outputs": [
        {
          "output_type": "stream",
          "name": "stdout",
          "text": [
            "[1] \"a\" \"b\" \"c\" \"d\" \"1\" \"2\" \"3\" \"4\"\n"
          ]
        }
      ],
      "source": [
        "%%R\n",
        "\n",
        "union(set1R,set2R)"
      ]
    },
    {
      "cell_type": "code",
      "execution_count": 23,
      "metadata": {
        "id": "JjGnulMAYivk",
        "colab": {
          "base_uri": "https://localhost:8080/"
        },
        "outputId": "b6be2ca2-50e6-4b3d-8279-09168010283e"
      },
      "outputs": [
        {
          "output_type": "stream",
          "name": "stdout",
          "text": [
            "[1] \"a\" \"d\"\n"
          ]
        }
      ],
      "source": [
        "%%R\n",
        "\n",
        "intersect(set1R,set3R)"
      ]
    },
    {
      "cell_type": "code",
      "execution_count": 24,
      "metadata": {
        "id": "AIB2ZsMDYs5F",
        "colab": {
          "base_uri": "https://localhost:8080/"
        },
        "outputId": "04787ce7-0a37-4e59-8980-c540c6595931"
      },
      "outputs": [
        {
          "output_type": "stream",
          "name": "stdout",
          "text": [
            "[1] 1 4\n"
          ]
        }
      ],
      "source": [
        "%%R\n",
        "\n",
        "setdiff(set2R,set3R)"
      ]
    },
    {
      "cell_type": "code",
      "execution_count": 25,
      "metadata": {
        "id": "vsMuiq-WZAH3",
        "colab": {
          "base_uri": "https://localhost:8080/"
        },
        "outputId": "280b9a8e-d1df-42fd-ab3f-08d8ff936e08"
      },
      "outputs": [
        {
          "output_type": "stream",
          "name": "stdout",
          "text": [
            "[1] \"1\" \"4\" \"a\" \"d\"\n"
          ]
        }
      ],
      "source": [
        "%%R\n",
        "\n",
        "#simmetric difference\n",
        "setdiff(union(set2R,set3R),intersect(set2R,set3R))"
      ]
    },
    {
      "cell_type": "markdown",
      "metadata": {
        "id": "qq3kTjOcaU6E"
      },
      "source": [
        "Notice set operations in R:"
      ]
    },
    {
      "cell_type": "code",
      "execution_count": 26,
      "metadata": {
        "id": "Rh9unFxRZiDF",
        "colab": {
          "base_uri": "https://localhost:8080/"
        },
        "outputId": "d8dff8f2-0464-4eca-fbfc-ca4946191d09"
      },
      "outputs": [
        {
          "output_type": "stream",
          "name": "stdout",
          "text": [
            "[1] \"a\" \"b\" \"c\" \"d\" \"1\" \"2\" \"3\" \"4\"\n"
          ]
        }
      ],
      "source": [
        "%%R\n",
        "\n",
        "set1R=c('a','b','c','d','d') #not a set\n",
        "set2R=c(1,2,3,4,4)#not a set\n",
        "union(set1R,set2R) #result is a set"
      ]
    }
  ],
  "metadata": {
    "anaconda-cloud": {
      "attach-environment": true,
      "summary": "test"
    },
    "colab": {
      "collapsed_sections": [
        "ix7xtYzM7GsE",
        "XW-l5zTaAonr",
        "lvVhUDHpBzhM",
        "7zjqtGb8Ck6G",
        "dD0Lb3LJTWVp",
        "CVGWKH2DRg4t"
      ],
      "provenance": [],
      "toc_visible": true,
      "include_colab_link": true
    },
    "hide_input": false,
    "kernelspec": {
      "display_name": "Python 3 (ipykernel)",
      "language": "python",
      "name": "python3"
    },
    "language_info": {
      "codemirror_mode": {
        "name": "ipython",
        "version": 3
      },
      "file_extension": ".py",
      "mimetype": "text/x-python",
      "name": "python",
      "nbconvert_exporter": "python",
      "pygments_lexer": "ipython3",
      "version": "3.12.0"
    }
  },
  "nbformat": 4,
  "nbformat_minor": 0
}