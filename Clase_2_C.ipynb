{
  "cells": [
    {
      "cell_type": "markdown",
      "metadata": {
        "id": "view-in-github",
        "colab_type": "text"
      },
      "source": [
        "<a href=\"https://colab.research.google.com/github/LuisPalominoR/Prueba1/blob/main/Clase_2_C.ipynb\" target=\"_parent\"><img src=\"https://colab.research.google.com/assets/colab-badge.svg\" alt=\"Open In Colab\"/></a>"
      ]
    },
    {
      "cell_type": "markdown",
      "metadata": {
        "id": "53eiCvNUA9rI"
      },
      "source": [
        "<img src=\"https://i.imgur.com/6U6q5jQ.png\"/>\n",
        "\n",
        "\n",
        "<a target=\"_blank\" href=\"https://colab.research.google.com/github/PythonVersusR/basicDataStructures_sets/blob/main/Python_R_Sets.ipynb\">\n",
        "  <img src=\"https://colab.research.google.com/assets/colab-badge.svg\" alt=\"Open In Colab\"/>\n",
        "</a>\n",
        "\n",
        "# Sets in Python"
      ]
    },
    {
      "cell_type": "code",
      "execution_count": 1,
      "metadata": {
        "id": "9iBBTm6AA9rL"
      },
      "outputs": [],
      "source": [
        "## if needed, run this and RESTART KERNEL\n",
        "import os\n",
        "os.environ['R_HOME'] ='/Library/Frameworks/R.framework/Resources'"
      ]
    },
    {
      "cell_type": "code",
      "execution_count": null,
      "metadata": {
        "id": "_efl4FU7igh_"
      },
      "outputs": [],
      "source": [
        "%load_ext rpy2.ipython"
      ]
    },
    {
      "cell_type": "markdown",
      "metadata": {
        "id": "ix7xtYzM7GsE"
      },
      "source": [
        "## 1. Creating"
      ]
    },
    {
      "cell_type": "code",
      "execution_count": null,
      "metadata": {
        "id": "2ffBcMUO4W6D"
      },
      "outputs": [],
      "source": [
        "aSet={1,6,2,3,4,4,4,5}\n",
        "\n",
        "# then\n",
        "aSet"
      ]
    },
    {
      "cell_type": "markdown",
      "metadata": {
        "id": "yBEwwScRd8IL"
      },
      "source": [
        "Notice that **sets** do not allow duplicates, and show ordering of values."
      ]
    },
    {
      "cell_type": "markdown",
      "metadata": {
        "id": "XW-l5zTaAonr"
      },
      "source": [
        "## 2. Accessing"
      ]
    },
    {
      "cell_type": "markdown",
      "metadata": {
        "id": "9WfrgZlD4bMn"
      },
      "source": [
        "You can not use indexes in sets."
      ]
    },
    {
      "cell_type": "code",
      "execution_count": null,
      "metadata": {
        "id": "KQrycQe_4hd2"
      },
      "outputs": [],
      "source": [
        "aSet[1]"
      ]
    },
    {
      "cell_type": "code",
      "execution_count": null,
      "metadata": {
        "id": "vY3DDSJs4mU2"
      },
      "outputs": [],
      "source": [
        "#you would need a list:\n",
        "list(aSet)[1]"
      ]
    },
    {
      "cell_type": "markdown",
      "metadata": {
        "id": "lvVhUDHpBzhM"
      },
      "source": [
        "## 2. Replacing"
      ]
    },
    {
      "cell_type": "markdown",
      "metadata": {
        "id": "tfywvzW8j_8j"
      },
      "source": [
        "You would need to rewrite or delete/add an element:"
      ]
    },
    {
      "cell_type": "code",
      "execution_count": null,
      "metadata": {
        "id": "a8_TaUeaB-KL"
      },
      "outputs": [],
      "source": [
        "# rewriting\n",
        "bSet={1,2,3,4}\n",
        "bSet=set(x**2 for x in bSet)\n",
        "bSet"
      ]
    },
    {
      "cell_type": "code",
      "execution_count": null,
      "metadata": {
        "id": "YJKl01mwkZBs"
      },
      "outputs": [],
      "source": [
        "cSet={'a','b','cc'}\n",
        "cSet.remove('cc')\n",
        "cSet.add('c')\n",
        "cSet"
      ]
    },
    {
      "cell_type": "markdown",
      "metadata": {
        "id": "7zjqtGb8Ck6G"
      },
      "source": [
        "## 3. Deleting"
      ]
    },
    {
      "cell_type": "code",
      "execution_count": null,
      "metadata": {
        "id": "ZM9dCqCKlYmV"
      },
      "outputs": [],
      "source": [
        "dSet={1,2,3,'a','b','c'}\n",
        "dSet.remove('d') #will not work"
      ]
    },
    {
      "cell_type": "code",
      "execution_count": null,
      "metadata": {
        "id": "UxZ_sEJUlkuZ"
      },
      "outputs": [],
      "source": [
        "dSet={1,2,3,'a','b','c'}\n",
        "dSet.discard('d')\n",
        "dSet"
      ]
    },
    {
      "cell_type": "code",
      "execution_count": null,
      "metadata": {
        "id": "u93ck_VNmOlf"
      },
      "outputs": [],
      "source": [
        "dSet={1,2,3,'a','b','c'}\n",
        "toDelete = [2,40,'b']\n",
        "\n",
        "# keep what is not in toDelete\n",
        "dSet.difference_update(toDelete)\n",
        "dSet"
      ]
    },
    {
      "cell_type": "markdown",
      "metadata": {
        "id": "-jXtOW0eRUOT"
      },
      "source": [
        "Notice the diference for deleting a set:"
      ]
    },
    {
      "cell_type": "code",
      "execution_count": null,
      "metadata": {
        "id": "mjS6Ti1kRMa8"
      },
      "outputs": [],
      "source": [
        "dSet.clear()\n",
        "dSet #empty the set"
      ]
    },
    {
      "cell_type": "code",
      "execution_count": null,
      "metadata": {
        "id": "qzfaIy0kRScs"
      },
      "outputs": [],
      "source": [
        "del cSet\n",
        "cSet #get rid of set"
      ]
    },
    {
      "cell_type": "markdown",
      "metadata": {
        "id": "dD0Lb3LJTWVp"
      },
      "source": [
        "## 5. Inserting"
      ]
    },
    {
      "cell_type": "code",
      "execution_count": null,
      "metadata": {
        "id": "bKuATgHzRchr"
      },
      "outputs": [],
      "source": [
        "cSet={'a','b','cc'}\n",
        "cSet.update(('dd',))\n",
        "cSet"
      ]
    },
    {
      "cell_type": "code",
      "execution_count": null,
      "metadata": {
        "id": "RtOSulXTTeSm"
      },
      "outputs": [],
      "source": [
        "cSet={'a','b','cc'}\n",
        "cSet.update(('dd','ee'))\n",
        "cSet"
      ]
    },
    {
      "cell_type": "markdown",
      "metadata": {
        "id": "CVGWKH2DRg4t"
      },
      "source": [
        "## Other operations"
      ]
    },
    {
      "cell_type": "markdown",
      "metadata": {
        "id": "XDvC3-PZR_f7"
      },
      "source": [
        "If we have these sets:"
      ]
    },
    {
      "cell_type": "code",
      "execution_count": null,
      "metadata": {
        "id": "QUOCC2LJSCqd"
      },
      "outputs": [],
      "source": [
        "set1={'a','b','c','d'}\n",
        "set2={1,2,3,4}\n",
        "set3={'a',2,3,'d'}"
      ]
    },
    {
      "cell_type": "markdown",
      "metadata": {
        "id": "eiXgIvvJST7O"
      },
      "source": [
        "We could use:"
      ]
    },
    {
      "cell_type": "code",
      "execution_count": null,
      "metadata": {
        "id": "aNikvAJgRjl2"
      },
      "outputs": [],
      "source": [
        "# union\n",
        "set4=set1|set2\n",
        "set4"
      ]
    },
    {
      "cell_type": "code",
      "execution_count": null,
      "metadata": {
        "id": "trGF-kChSZn6"
      },
      "outputs": [],
      "source": [
        "#intersection\n",
        "set5=set1&set3\n",
        "set5"
      ]
    },
    {
      "cell_type": "code",
      "execution_count": null,
      "metadata": {
        "id": "TZYrio8rSqnH"
      },
      "outputs": [],
      "source": [
        "# difference:\n",
        "# set of all the elements to the left that are not present in the right\n",
        "set6=set2-set3\n",
        "set6\n"
      ]
    },
    {
      "cell_type": "code",
      "execution_count": null,
      "metadata": {
        "id": "aBj0u4JKT5SU"
      },
      "outputs": [],
      "source": [
        "# symmetric difference\n",
        "# set of elements that are either in the first set or the second set\n",
        "# but not in both.\n",
        "\n",
        "set7=set2^set3\n",
        "set7"
      ]
    },
    {
      "cell_type": "markdown",
      "metadata": {
        "id": "XYjPbmiGij69"
      },
      "source": [
        "# Sets in R\n",
        "\n",
        "R does not have a set data structure, but it has _set_ operations for vectors:"
      ]
    },
    {
      "cell_type": "code",
      "execution_count": null,
      "metadata": {
        "id": "MsBwt4EmXD0k"
      },
      "outputs": [],
      "source": [
        "%%R\n",
        "\n",
        "# some vectors\n",
        "\n",
        "set1R=c('a','b','c','d')\n",
        "set2R=c(1,2,3,4)\n",
        "set3R=c('a',2,3,'d')\n",
        "\n"
      ]
    },
    {
      "cell_type": "code",
      "execution_count": null,
      "metadata": {
        "id": "U_-grWqyXr4V"
      },
      "outputs": [],
      "source": [
        "%%R\n",
        "\n",
        "union(set1R,set2R)"
      ]
    },
    {
      "cell_type": "code",
      "execution_count": null,
      "metadata": {
        "id": "JjGnulMAYivk"
      },
      "outputs": [],
      "source": [
        "%%R\n",
        "\n",
        "intersect(set1R,set3R)"
      ]
    },
    {
      "cell_type": "code",
      "execution_count": null,
      "metadata": {
        "id": "AIB2ZsMDYs5F"
      },
      "outputs": [],
      "source": [
        "%%R\n",
        "\n",
        "setdiff(set2R,set3R)"
      ]
    },
    {
      "cell_type": "code",
      "execution_count": null,
      "metadata": {
        "id": "vsMuiq-WZAH3"
      },
      "outputs": [],
      "source": [
        "%%R\n",
        "\n",
        "#simmetric difference\n",
        "setdiff(union(set2R,set3R),intersect(set2R,set3R))"
      ]
    },
    {
      "cell_type": "markdown",
      "metadata": {
        "id": "qq3kTjOcaU6E"
      },
      "source": [
        "Notice set operations in R:"
      ]
    },
    {
      "cell_type": "code",
      "execution_count": null,
      "metadata": {
        "id": "Rh9unFxRZiDF"
      },
      "outputs": [],
      "source": [
        "%%R\n",
        "\n",
        "set1R=c('a','b','c','d','d') #not a set\n",
        "set2R=c(1,2,3,4,4)#not a set\n",
        "union(set1R,set2R) #result is a set"
      ]
    }
  ],
  "metadata": {
    "anaconda-cloud": {
      "attach-environment": true,
      "summary": "test"
    },
    "colab": {
      "collapsed_sections": [
        "ix7xtYzM7GsE",
        "XW-l5zTaAonr",
        "lvVhUDHpBzhM",
        "7zjqtGb8Ck6G",
        "dD0Lb3LJTWVp",
        "CVGWKH2DRg4t"
      ],
      "provenance": [],
      "toc_visible": true,
      "include_colab_link": true
    },
    "hide_input": false,
    "kernelspec": {
      "display_name": "Python 3 (ipykernel)",
      "language": "python",
      "name": "python3"
    },
    "language_info": {
      "codemirror_mode": {
        "name": "ipython",
        "version": 3
      },
      "file_extension": ".py",
      "mimetype": "text/x-python",
      "name": "python",
      "nbconvert_exporter": "python",
      "pygments_lexer": "ipython3",
      "version": "3.12.0"
    }
  },
  "nbformat": 4,
  "nbformat_minor": 0
}