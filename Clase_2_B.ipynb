{
  "cells": [
    {
      "cell_type": "markdown",
      "metadata": {
        "id": "view-in-github",
        "colab_type": "text"
      },
      "source": [
        "<a href=\"https://colab.research.google.com/github/LuisPalominoR/Prueba1/blob/main/Clase_2_B.ipynb\" target=\"_parent\"><img src=\"https://colab.research.google.com/assets/colab-badge.svg\" alt=\"Open In Colab\"/></a>"
      ]
    },
    {
      "cell_type": "markdown",
      "metadata": {
        "id": "Bb5P9oBJtWgi"
      },
      "source": [
        "<img src=\"https://i.imgur.com/6U6q5jQ.png\"/>\n",
        "\n",
        "<a target=\"_blank\" href=\"https://colab.research.google.com/github/PythonVersusR/basicDataStructures_vectors/blob/main/R_Python_Vectors.ipynb\">\n",
        "  <img src=\"https://colab.research.google.com/assets/colab-badge.svg\" alt=\"Open In Colab\"/>\n",
        "</a>\n",
        "\n",
        "# Vectors in R and Python"
      ]
    },
    {
      "cell_type": "code",
      "execution_count": 1,
      "metadata": {
        "id": "7A0T_1aDAT1H"
      },
      "outputs": [],
      "source": [
        "## if needed, run this and RESTART KERNEL\n",
        "# import os\n",
        "# os.environ['R_HOME'] ='/Library/Frameworks/R.framework/Resources'"
      ]
    },
    {
      "cell_type": "code",
      "execution_count": 2,
      "metadata": {
        "id": "oo3FOXWP6ewM"
      },
      "outputs": [],
      "source": [
        "%load_ext rpy2.ipython"
      ]
    },
    {
      "cell_type": "markdown",
      "metadata": {
        "id": "ix7xtYzM7GsE"
      },
      "source": [
        "## 1. Creating"
      ]
    },
    {
      "cell_type": "code",
      "execution_count": 3,
      "metadata": {
        "id": "GHJeUsWetWgm"
      },
      "outputs": [],
      "source": [
        "import numpy as np\n",
        "\n",
        "namesP=np.array([\"Qing\", \"Françoise\", \"Raúl\", \"Bjork\",\"Marie\"])\n",
        "agesP=np.array([32,33,28,30,29])\n",
        "countryP=np.array([\"China\", \"Senegal\", \"España\", \"Norway\",\"Korea\"])\n",
        "educationP=np.array([\"Bach\", \"Bach\", \"Master\", \"PhD\",\"PhD\"])"
      ]
    },
    {
      "cell_type": "code",
      "execution_count": 4,
      "metadata": {
        "id": "bYQ8wWNQ6rSt",
        "colab": {
          "base_uri": "https://localhost:8080/"
        },
        "outputId": "3b3c1f32-e2ce-42f8-d4b5-f3a1b0e08946"
      },
      "outputs": [
        {
          "output_type": "execute_result",
          "data": {
            "text/plain": [
              "array(['Qing', 'Françoise', 'Raúl', 'Bjork', 'Marie'], dtype='<U9')"
            ]
          },
          "metadata": {},
          "execution_count": 4
        }
      ],
      "source": [
        "namesP"
      ]
    },
    {
      "cell_type": "code",
      "execution_count": 5,
      "metadata": {
        "id": "dUxYQK6F5lks"
      },
      "outputs": [],
      "source": [
        "%%R\n",
        "namesR=c(\"Qing\", \"Françoise\", \"Raúl\", \"Bjork\",\"Marie\")\n",
        "agesR=c(32,33,28,30,29)\n",
        "countryR=c(\"China\", \"Senegal\", \"España\", \"Norway\",\"Korea\")\n",
        "educationR=c(\"Bach\", \"Bach\", \"Master\", \"PhD\",\"PhD\")"
      ]
    },
    {
      "cell_type": "code",
      "execution_count": 6,
      "metadata": {
        "id": "9h7K4xpm6lzE",
        "colab": {
          "base_uri": "https://localhost:8080/"
        },
        "outputId": "b9e773b8-9d61-4d7f-b444-2d82037d7140"
      },
      "outputs": [
        {
          "output_type": "stream",
          "name": "stdout",
          "text": [
            "[1] \"Qing\"      \"Françoise\" \"Raúl\"      \"Bjork\"     \"Marie\"    \n"
          ]
        }
      ],
      "source": [
        "%%R\n",
        "namesR"
      ]
    },
    {
      "cell_type": "markdown",
      "metadata": {
        "id": "_y7hce_8tWgr"
      },
      "source": [
        "## 2. Accessing"
      ]
    },
    {
      "cell_type": "code",
      "execution_count": 7,
      "metadata": {
        "id": "Hp4CogsCtWgr",
        "colab": {
          "base_uri": "https://localhost:8080/"
        },
        "outputId": "fb0f9bea-bb8d-4600-d08a-b031080a6128"
      },
      "outputs": [
        {
          "output_type": "execute_result",
          "data": {
            "text/plain": [
              "32"
            ]
          },
          "metadata": {},
          "execution_count": 7
        }
      ],
      "source": [
        "# Keep in mind the positions in Python start in **0**.\n",
        "agesP[0]"
      ]
    },
    {
      "cell_type": "code",
      "execution_count": 8,
      "metadata": {
        "id": "bZalkSyg7ozY",
        "colab": {
          "base_uri": "https://localhost:8080/"
        },
        "outputId": "6aa20cd0-7033-40c0-dd28-95b375de74da"
      },
      "outputs": [
        {
          "output_type": "stream",
          "name": "stdout",
          "text": [
            "[1] 32\n"
          ]
        }
      ],
      "source": [
        "%%R\n",
        "agesR[1]"
      ]
    },
    {
      "cell_type": "code",
      "execution_count": 9,
      "metadata": {
        "id": "MuQtAvsH-rJw",
        "colab": {
          "base_uri": "https://localhost:8080/",
          "height": 35
        },
        "outputId": "1dd19513-b8bb-4cf4-c4e0-5fc2f49b7fe2"
      },
      "outputs": [
        {
          "output_type": "execute_result",
          "data": {
            "text/plain": [
              "'Korea'"
            ],
            "application/vnd.google.colaboratory.intrinsic+json": {
              "type": "string"
            }
          },
          "metadata": {},
          "execution_count": 9
        }
      ],
      "source": [
        "#last element\n",
        "countryP[-1]"
      ]
    },
    {
      "cell_type": "code",
      "execution_count": 10,
      "metadata": {
        "id": "Ffzl7qci-yzx",
        "colab": {
          "base_uri": "https://localhost:8080/"
        },
        "outputId": "e6c84cc3-7e4a-4a5f-b5bf-da9c433ec8c8"
      },
      "outputs": [
        {
          "output_type": "stream",
          "name": "stdout",
          "text": [
            "[1] \"Korea\"\n"
          ]
        }
      ],
      "source": [
        "%%R\n",
        "tail(countryR,1)"
      ]
    },
    {
      "cell_type": "markdown",
      "metadata": {
        "id": "hAq14dMo8TnG"
      },
      "source": [
        "### Slices"
      ]
    },
    {
      "cell_type": "code",
      "execution_count": 11,
      "metadata": {
        "id": "pa7c_1M1tWgv",
        "colab": {
          "base_uri": "https://localhost:8080/"
        },
        "outputId": "b773d0e4-244b-48d4-cf2d-f959791a8784"
      },
      "outputs": [
        {
          "output_type": "execute_result",
          "data": {
            "text/plain": [
              "array([33, 28, 30])"
            ]
          },
          "metadata": {},
          "execution_count": 11
        }
      ],
      "source": [
        "# several, using slices:\n",
        "agesP[1:4] #second to fourth"
      ]
    },
    {
      "cell_type": "code",
      "execution_count": 12,
      "metadata": {
        "id": "AF942YnF8yc9",
        "colab": {
          "base_uri": "https://localhost:8080/"
        },
        "outputId": "ebcf534f-f395-47bd-b601-52ddef81fc73"
      },
      "outputs": [
        {
          "output_type": "stream",
          "name": "stdout",
          "text": [
            "[1] 33 28 30\n"
          ]
        }
      ],
      "source": [
        "%%R\n",
        "agesR[2:4]"
      ]
    },
    {
      "cell_type": "code",
      "execution_count": 13,
      "metadata": {
        "id": "p8h88eUjtWg1",
        "colab": {
          "base_uri": "https://localhost:8080/"
        },
        "outputId": "9a58e639-ed67-414a-998d-8feb825f1647"
      },
      "outputs": [
        {
          "output_type": "execute_result",
          "data": {
            "text/plain": [
              "array([32, 28, 30])"
            ]
          },
          "metadata": {},
          "execution_count": 13
        }
      ],
      "source": [
        "# non consecutive\n",
        "\n",
        "agesP[[0,2,3]]"
      ]
    },
    {
      "cell_type": "code",
      "execution_count": 14,
      "metadata": {
        "id": "c8RpFx1dAEmz",
        "colab": {
          "base_uri": "https://localhost:8080/"
        },
        "outputId": "d716576d-78cf-489c-daa2-a2e92dfe45b5"
      },
      "outputs": [
        {
          "output_type": "stream",
          "name": "stdout",
          "text": [
            "[1] 32 28 30\n"
          ]
        }
      ],
      "source": [
        "%%R\n",
        "agesR[c(1,3,4)]"
      ]
    },
    {
      "cell_type": "markdown",
      "metadata": {
        "id": "3HdLpDektWg6"
      },
      "source": [
        "## Replacing"
      ]
    },
    {
      "cell_type": "markdown",
      "metadata": {
        "id": "W9tJhxjeBMyX"
      },
      "source": [
        "### by Position"
      ]
    },
    {
      "cell_type": "code",
      "execution_count": 15,
      "metadata": {
        "id": "Q5mtP1j8tWg7",
        "colab": {
          "base_uri": "https://localhost:8080/"
        },
        "outputId": "e3b59829-1ef0-488f-8252-e18ccf2efcab"
      },
      "outputs": [
        {
          "output_type": "execute_result",
          "data": {
            "text/plain": [
              "array(['China', 'Senegal', 'Spain', 'Norway', 'Korea'], dtype='<U7')"
            ]
          },
          "metadata": {},
          "execution_count": 15
        }
      ],
      "source": [
        "countryP[2]=\"Spain\"\n",
        "\n",
        "# list changed:\n",
        "countryP"
      ]
    },
    {
      "cell_type": "code",
      "execution_count": 16,
      "metadata": {
        "id": "Bq1cr1VPBRJz",
        "colab": {
          "base_uri": "https://localhost:8080/"
        },
        "outputId": "c0173efd-3122-4c7b-9c14-f16f4b3e9e2d"
      },
      "outputs": [
        {
          "output_type": "stream",
          "name": "stdout",
          "text": [
            "[1] \"China\"   \"Senegal\" \"Spain\"   \"Norway\"  \"Korea\"  \n"
          ]
        }
      ],
      "source": [
        "%%R\n",
        "countryR[3]=\"Spain\"\n",
        "\n",
        "# list changed:\n",
        "countryR"
      ]
    },
    {
      "cell_type": "markdown",
      "metadata": {
        "id": "i3KudD3Don96"
      },
      "source": [
        "### By Value"
      ]
    },
    {
      "cell_type": "code",
      "execution_count": 17,
      "metadata": {
        "id": "Nf9PJWMjqiNI",
        "colab": {
          "base_uri": "https://localhost:8080/"
        },
        "outputId": "06c41c6f-0dc5-4f5d-ebac-3c9689a51016"
      },
      "outputs": [
        {
          "output_type": "execute_result",
          "data": {
            "text/plain": [
              "array(['PR China', 'Senegal', 'Spain', 'Norway', 'Korea'], dtype='<U8')"
            ]
          },
          "metadata": {},
          "execution_count": 17
        }
      ],
      "source": [
        "countryP=np.char.replace(countryP, 'China', 'PR China')\n",
        "countryP"
      ]
    },
    {
      "cell_type": "code",
      "execution_count": 18,
      "metadata": {
        "id": "ZozgXyECpjy2",
        "colab": {
          "base_uri": "https://localhost:8080/"
        },
        "outputId": "8ca48e74-a7da-45fe-e4f4-c7a701d19804"
      },
      "outputs": [
        {
          "output_type": "stream",
          "name": "stdout",
          "text": [
            "[1] \"PR China\" \"Senegal\"  \"Spain\"    \"Norway\"   \"Korea\"   \n"
          ]
        }
      ],
      "source": [
        "%%R\n",
        "countryR[countryR=='China']=\"PR China\"\n",
        "countryR"
      ]
    },
    {
      "cell_type": "markdown",
      "metadata": {
        "id": "_CF8wYu0tWhH"
      },
      "source": [
        "## Deleting"
      ]
    },
    {
      "cell_type": "markdown",
      "metadata": {
        "id": "bjYzRXv2rB2r"
      },
      "source": [
        "### By Position"
      ]
    },
    {
      "cell_type": "code",
      "execution_count": 19,
      "metadata": {
        "id": "ghWSnmzftWhH",
        "colab": {
          "base_uri": "https://localhost:8080/"
        },
        "outputId": "b0384572-ab07-4e5d-8715-e8e94c4e0efb"
      },
      "outputs": [
        {
          "output_type": "execute_result",
          "data": {
            "text/plain": [
              "array(['PR China', 'Senegal', 'Spain', 'Norway'], dtype='<U8')"
            ]
          },
          "metadata": {},
          "execution_count": 19
        }
      ],
      "source": [
        "countryP=np.delete(countryP,-1)\n",
        "countryP"
      ]
    },
    {
      "cell_type": "code",
      "execution_count": 20,
      "metadata": {
        "id": "h6UsIzY5tIgY",
        "colab": {
          "base_uri": "https://localhost:8080/"
        },
        "outputId": "5521776a-343c-4e80-cecd-3e958220de06"
      },
      "outputs": [
        {
          "output_type": "stream",
          "name": "stdout",
          "text": [
            "[1] \"PR China\" \"Senegal\"  \"Spain\"    \"Norway\"  \n"
          ]
        }
      ],
      "source": [
        "%%R\n",
        "countryR=countryR[-length(countryR)]\n",
        "countryR"
      ]
    },
    {
      "cell_type": "code",
      "execution_count": 21,
      "metadata": {
        "id": "EVla5Ov2tWhM",
        "colab": {
          "base_uri": "https://localhost:8080/"
        },
        "outputId": "d7056fd2-eb0c-4a68-a60a-20cecdfaea22"
      },
      "outputs": [
        {
          "output_type": "execute_result",
          "data": {
            "text/plain": [
              "array([1, 5, 6])"
            ]
          },
          "metadata": {},
          "execution_count": 21
        }
      ],
      "source": [
        "# for several positions\n",
        "\n",
        "vectorP=np.array([1,2,3,4,5,6])\n",
        "vectorP=np.delete(vectorP,range(1,4))\n",
        "#now:\n",
        "vectorP"
      ]
    },
    {
      "cell_type": "code",
      "execution_count": 22,
      "metadata": {
        "id": "hquozQUutoXe",
        "colab": {
          "base_uri": "https://localhost:8080/"
        },
        "outputId": "b78cc252-d797-40e6-d50d-731ca25f4346"
      },
      "outputs": [
        {
          "output_type": "stream",
          "name": "stdout",
          "text": [
            "[1] 1 5 6\n"
          ]
        }
      ],
      "source": [
        "%%R\n",
        "\n",
        "vectorR=c(1,2,3,4,5,6)\n",
        "vectorR=vectorR[-c(2:4)]\n",
        "\n",
        "#now:\n",
        "vectorR"
      ]
    },
    {
      "cell_type": "code",
      "execution_count": 23,
      "metadata": {
        "id": "4Sc0LyKDuJoz",
        "colab": {
          "base_uri": "https://localhost:8080/"
        },
        "outputId": "84bb9f59-354c-41cb-9411-2fae39fa2c1e"
      },
      "outputs": [
        {
          "output_type": "execute_result",
          "data": {
            "text/plain": [
              "array([11, 33, 55])"
            ]
          },
          "metadata": {},
          "execution_count": 23
        }
      ],
      "source": [
        "# non consecutive\n",
        "byeIndex=[1, 3, 5]\n",
        "\n",
        "vectorP=np.array([11,22,33,44,55,66])\n",
        "new_vectorP=np.delete(vectorP,byeIndex)\n",
        "\n",
        "#now:\n",
        "new_vectorP"
      ]
    },
    {
      "cell_type": "code",
      "execution_count": 24,
      "metadata": {
        "id": "A38KkgtGvpdv",
        "colab": {
          "base_uri": "https://localhost:8080/"
        },
        "outputId": "eba7894b-6643-4339-a0fc-c17a818a4223"
      },
      "outputs": [
        {
          "output_type": "stream",
          "name": "stdout",
          "text": [
            "[1] 11 33 55\n"
          ]
        }
      ],
      "source": [
        "%%R\n",
        "vectorR=c(11,22,33,44,55,66)\n",
        "new_vectorR=vectorR[-c(2,4,6)]\n",
        "new_vectorR"
      ]
    },
    {
      "cell_type": "markdown",
      "metadata": {
        "id": "rz-SxbVDyI_5"
      },
      "source": [
        "### by Value"
      ]
    },
    {
      "cell_type": "code",
      "execution_count": 25,
      "metadata": {
        "id": "kQCwXCw3tWhO",
        "colab": {
          "base_uri": "https://localhost:8080/"
        },
        "outputId": "179926f1-0b14-439c-a6df-781d7e54c8b1"
      },
      "outputs": [
        {
          "output_type": "execute_result",
          "data": {
            "text/plain": [
              "array([ 1, 45])"
            ]
          },
          "metadata": {},
          "execution_count": 25
        }
      ],
      "source": [
        "# by value\n",
        "vectorP=np.array([1,3,45,3,3])\n",
        "\n",
        "vectorP=np.delete(vectorP, np.where(vectorP == 3))\n",
        "\n",
        "#  changed:\n",
        "vectorP"
      ]
    },
    {
      "cell_type": "code",
      "execution_count": 26,
      "metadata": {
        "id": "fSrbGThNzuxk",
        "colab": {
          "base_uri": "https://localhost:8080/"
        },
        "outputId": "d3236958-ccc5-4197-916a-6cb94d580b31"
      },
      "outputs": [
        {
          "output_type": "stream",
          "name": "stdout",
          "text": [
            "[1]  1 45\n"
          ]
        }
      ],
      "source": [
        "%%R\n",
        "\n",
        "vectorR=c(1,3,45,3,3)\n",
        "vectorR=vectorR[vectorR!=3]\n",
        "vectorR\n"
      ]
    },
    {
      "cell_type": "code",
      "execution_count": 27,
      "metadata": {
        "id": "JbW-UmIBKLpI",
        "colab": {
          "base_uri": "https://localhost:8080/"
        },
        "outputId": "99ca1f1a-9444-4c9a-8943-3a8b4fcafa12"
      },
      "outputs": [
        {
          "output_type": "execute_result",
          "data": {
            "text/plain": [
              "array([3, 3, 3])"
            ]
          },
          "metadata": {},
          "execution_count": 27
        }
      ],
      "source": [
        "# by value\n",
        "vectorP=np.array([1,3,45,3,3])\n",
        "\n",
        "#vectorP=\n",
        "vectorP=np.delete(vectorP, np.isin(vectorP,[1,45]))\n",
        "\n",
        "#  changed:\n",
        "vectorP"
      ]
    },
    {
      "cell_type": "code",
      "execution_count": 28,
      "metadata": {
        "id": "uZaUCzb_MWpy",
        "colab": {
          "base_uri": "https://localhost:8080/"
        },
        "outputId": "e5982c90-4766-4ea5-df82-52dd5b834455"
      },
      "outputs": [
        {
          "output_type": "stream",
          "name": "stdout",
          "text": [
            "[1] 3 3 3\n"
          ]
        }
      ],
      "source": [
        "%%R\n",
        "\n",
        "vectorR=c(1,3,45,3,3)\n",
        "vectorR=vectorR[!vectorR%in%c(1,45)]\n",
        "vectorR"
      ]
    },
    {
      "cell_type": "markdown",
      "metadata": {
        "id": "JzcKbpXptWhX"
      },
      "source": [
        "## Inserting values"
      ]
    },
    {
      "cell_type": "markdown",
      "metadata": {
        "id": "hVd3ie7Azqz8"
      },
      "source": [
        "### at the End"
      ]
    },
    {
      "cell_type": "code",
      "execution_count": 29,
      "metadata": {
        "id": "or5OmtestWhY",
        "colab": {
          "base_uri": "https://localhost:8080/"
        },
        "outputId": "e38d0f61-e56b-4a56-8516-c21b4b0d5ee5"
      },
      "outputs": [
        {
          "output_type": "execute_result",
          "data": {
            "text/plain": [
              "array([1, 2, 3, 4, 5])"
            ]
          },
          "metadata": {},
          "execution_count": 29
        }
      ],
      "source": [
        "vectorP=np.array([1,2,3,4])\n",
        "vectorP=np.append(vectorP,5)\n",
        "vectorP"
      ]
    },
    {
      "cell_type": "code",
      "execution_count": 30,
      "metadata": {
        "id": "QCiOC5fG3O42",
        "colab": {
          "base_uri": "https://localhost:8080/"
        },
        "outputId": "16a8a311-e2fa-47c4-a269-98bdcbea3b39"
      },
      "outputs": [
        {
          "output_type": "stream",
          "name": "stdout",
          "text": [
            "[1] 1 2 3 4 5\n"
          ]
        }
      ],
      "source": [
        "%%R\n",
        "vectorR=c(1,2,3,4)\n",
        "vectorR=c(vectorR,5)\n",
        "vectorR"
      ]
    },
    {
      "cell_type": "markdown",
      "metadata": {
        "id": "O5b9vQ2Bz00B"
      },
      "source": [
        "### in a particular location"
      ]
    },
    {
      "cell_type": "code",
      "execution_count": 31,
      "metadata": {
        "id": "GB4IycLs32Ya",
        "colab": {
          "base_uri": "https://localhost:8080/"
        },
        "outputId": "7a414107-9209-4750-a2b1-c4ba3fd3497e"
      },
      "outputs": [
        {
          "output_type": "execute_result",
          "data": {
            "text/plain": [
              "array([ 1, 10,  2,  3,  4])"
            ]
          },
          "metadata": {},
          "execution_count": 31
        }
      ],
      "source": [
        "vectorP=np.array([1,2,3,4])\n",
        "vectorP=np.insert(vectorP,obj=1,values=10) #obj is position\n",
        "vectorP"
      ]
    },
    {
      "cell_type": "code",
      "execution_count": 32,
      "metadata": {
        "id": "IcP2en363_ii",
        "colab": {
          "base_uri": "https://localhost:8080/"
        },
        "outputId": "5e4600b5-cb9c-4610-c96c-b93af2bde4f4"
      },
      "outputs": [
        {
          "output_type": "stream",
          "name": "stdout",
          "text": [
            "[1]  1 10  2  3  4\n"
          ]
        }
      ],
      "source": [
        "%%R\n",
        "vectorR=c(1,2,3,4)\n",
        "vectorR=append(vectorR,10,after=1)\n",
        "vectorR"
      ]
    },
    {
      "cell_type": "markdown",
      "metadata": {
        "id": "q6kyjfjmcYOe"
      },
      "source": [
        "## Concatenating"
      ]
    },
    {
      "cell_type": "code",
      "execution_count": 33,
      "metadata": {
        "id": "qheKebwLca3H",
        "colab": {
          "base_uri": "https://localhost:8080/"
        },
        "outputId": "a7d2a78e-1f37-4186-98ca-46f0003a5ce8"
      },
      "outputs": [
        {
          "output_type": "execute_result",
          "data": {
            "text/plain": [
              "array(['1', '2', '3', '4', 'a', 'b'], dtype='<U21')"
            ]
          },
          "metadata": {},
          "execution_count": 33
        }
      ],
      "source": [
        "import numpy as np\n",
        "\n",
        "vectorP1=np.array([1,2,3,4])\n",
        "vectorP2=np.array(['a','b'])\n",
        "vectorP12=np.concatenate((vectorP1,vectorP2))\n",
        "vectorP12"
      ]
    },
    {
      "cell_type": "code",
      "execution_count": 34,
      "metadata": {
        "id": "UmLUsWXwcvdM",
        "colab": {
          "base_uri": "https://localhost:8080/"
        },
        "outputId": "13a28576-0e00-472e-bf46-9c56fa8aa970"
      },
      "outputs": [
        {
          "output_type": "stream",
          "name": "stdout",
          "text": [
            "[1] \"1\" \"2\" \"3\" \"4\" \"a\" \"b\"\n"
          ]
        }
      ],
      "source": [
        "%%R\n",
        "vectorR1=c(1,2,3,4)\n",
        "vectorR2=c('a','b')\n",
        "vectorR12=c(vectorR1,vectorR2)\n",
        "vectorR12"
      ]
    },
    {
      "cell_type": "markdown",
      "metadata": {
        "id": "FQ6xriaGePFM"
      },
      "source": [
        "Remember that vectors support just one data type, and coercion will activate when different data types are detected."
      ]
    },
    {
      "cell_type": "code",
      "execution_count": 35,
      "metadata": {
        "id": "Ef6zopFhXpgY",
        "colab": {
          "base_uri": "https://localhost:8080/"
        },
        "outputId": "a4aedb5b-6f61-4d19-ac9d-75c670faee6a"
      },
      "outputs": [
        {
          "output_type": "execute_result",
          "data": {
            "text/plain": [
              "array(['1', '2', '3', '4', 'O'], dtype='<U21')"
            ]
          },
          "metadata": {},
          "execution_count": 35
        }
      ],
      "source": [
        "vectorP1=np.array([1,2,3,4,\"O\"])\n",
        "vectorP1"
      ]
    },
    {
      "cell_type": "code",
      "execution_count": 36,
      "metadata": {
        "id": "qF3_i7jFX8gf",
        "colab": {
          "base_uri": "https://localhost:8080/"
        },
        "outputId": "3826e0c5-beb9-4b85-f928-26a5343b6728"
      },
      "outputs": [
        {
          "output_type": "stream",
          "name": "stdout",
          "text": [
            "[1] \"1\" \"2\" \"3\" \"4\" \"o\"\n"
          ]
        }
      ],
      "source": [
        "%%R\n",
        "vectorR1=c(1,2,3,4,\"o\")\n",
        "vectorR1"
      ]
    }
  ],
  "metadata": {
    "anaconda-cloud": {
      "attach-environment": true,
      "summary": "test"
    },
    "colab": {
      "provenance": [],
      "include_colab_link": true
    },
    "hide_input": false,
    "kernelspec": {
      "display_name": "Python 3 (ipykernel)",
      "language": "python",
      "name": "python3"
    },
    "language_info": {
      "codemirror_mode": {
        "name": "ipython",
        "version": 3
      },
      "file_extension": ".py",
      "mimetype": "text/x-python",
      "name": "python",
      "nbconvert_exporter": "python",
      "pygments_lexer": "ipython3",
      "version": "3.12.0"
    }
  },
  "nbformat": 4,
  "nbformat_minor": 0
}