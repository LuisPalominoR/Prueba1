{
  "cells": [
    {
      "cell_type": "markdown",
      "metadata": {
        "id": "view-in-github",
        "colab_type": "text"
      },
      "source": [
        "<a href=\"https://colab.research.google.com/github/LuisPalominoR/Prueba1/blob/main/Clase_2.ipynb\" target=\"_parent\"><img src=\"https://colab.research.google.com/assets/colab-badge.svg\" alt=\"Open In Colab\"/></a>"
      ]
    },
    {
      "cell_type": "markdown",
      "metadata": {
        "id": "dCNCKJGxzErY"
      },
      "source": [
        "<a href=\"https://imgur.com/6U6q5jQ\"><img src=\"https://i.imgur.com/6U6q5jQ.png\" title=\"source: imgur.com\" /></a>"
      ]
    },
    {
      "cell_type": "markdown",
      "metadata": {
        "id": "Bb5P9oBJtWgi"
      },
      "source": [
        "<a target=\"_blank\" href=\"https://colab.research.google.com/github/PythonVersusR/basicDataStructures_lists/blob/main/R_Python_Lists.ipynb\">\n",
        "  <img src=\"https://colab.research.google.com/assets/colab-badge.svg\" alt=\"Open In Colab\"/>\n",
        "</a>\n",
        "\n",
        "\n",
        "# Lists in R and Python"
      ]
    },
    {
      "cell_type": "code",
      "execution_count": null,
      "metadata": {
        "id": "CQ0-6XdK5Sre"
      },
      "outputs": [],
      "source": [
        "## if needed, run this and RESTART KERNEL\n",
        "# import os\n",
        "# os.environ['R_HOME'] ='/Library/Frameworks/R.framework/Resources'"
      ]
    },
    {
      "cell_type": "code",
      "execution_count": null,
      "metadata": {
        "id": "oo3FOXWP6ewM"
      },
      "outputs": [],
      "source": [
        "%load_ext rpy2.ipython"
      ]
    },
    {
      "cell_type": "markdown",
      "metadata": {
        "id": "ix7xtYzM7GsE"
      },
      "source": [
        "## 1. Creating"
      ]
    },
    {
      "cell_type": "code",
      "execution_count": null,
      "metadata": {
        "id": "GHJeUsWetWgm"
      },
      "outputs": [],
      "source": [
        "namesP=[\"Qing\", \"Françoise\", \"Raúl\", \"Bjork\",\"Marie\",\"Jim\",\"Tere\",\"Tina\"]\n",
        "agesP=[32,33,28,30,29,33,34,27]\n",
        "countryP=[\"China\", \"Senegal\", \"España\", \"Norway\",\"Korea\",\"USA\",\"Bolivia\",\"Portugal\"]\n",
        "educationP=[\"Bach\", \"Bach\", \"Master\", \"PhD\",\"PhD\", \"Master\",\"Master\",\"PhD\"]"
      ]
    },
    {
      "cell_type": "code",
      "execution_count": null,
      "metadata": {
        "id": "kHOybyYs7bt3",
        "outputId": "a9623b7e-3a6d-48c1-b425-22d9172d3618",
        "colab": {
          "base_uri": "https://localhost:8080/"
        }
      },
      "outputs": [
        {
          "output_type": "execute_result",
          "data": {
            "text/plain": [
              "list"
            ]
          },
          "metadata": {},
          "execution_count": 4
        }
      ],
      "source": [
        "type(namesP)"
      ]
    },
    {
      "cell_type": "code",
      "execution_count": null,
      "metadata": {
        "id": "bYQ8wWNQ6rSt",
        "outputId": "722f18a5-47c1-4250-b2ad-51b0612422f2",
        "colab": {
          "base_uri": "https://localhost:8080/"
        }
      },
      "outputs": [
        {
          "output_type": "execute_result",
          "data": {
            "text/plain": [
              "['Qing', 'Françoise', 'Raúl', 'Bjork', 'Marie', 'Jim', 'Tere', 'Tina']"
            ]
          },
          "metadata": {},
          "execution_count": 5
        }
      ],
      "source": [
        "namesP"
      ]
    },
    {
      "cell_type": "code",
      "execution_count": null,
      "metadata": {
        "id": "dUxYQK6F5lks"
      },
      "outputs": [],
      "source": [
        "%%R\n",
        "namesR=list(\"Qing\", \"Françoise\", \"Raúl\", \"Bjork\",\"Marie\",\"Jim\",\"Tere\",\"Tina\")\n",
        "agesR=list(32,33,28,30,29,33,34,27)\n",
        "countryR=list(\"China\", \"Senegal\", \"España\", \"Norway\",\"Korea\",\"USA\",\"Bolivia\",\"Portugal\")\n",
        "educationR=list(\"Bach\", \"Bach\", \"Master\", \"PhD\",\"PhD\", \"Master\",\"Master\",\"PhD\")"
      ]
    },
    {
      "cell_type": "code",
      "execution_count": null,
      "metadata": {
        "id": "RSJyun677gMs",
        "outputId": "304b7f01-43e1-410c-8957-e206a9daf0a2",
        "colab": {
          "base_uri": "https://localhost:8080/"
        }
      },
      "outputs": [
        {
          "output_type": "stream",
          "name": "stdout",
          "text": [
            "[1] \"list\"\n"
          ]
        }
      ],
      "source": [
        "%%R\n",
        "typeof(namesR)"
      ]
    },
    {
      "cell_type": "code",
      "execution_count": null,
      "metadata": {
        "id": "9h7K4xpm6lzE",
        "outputId": "5a56357b-5fc3-488e-c4cc-9e4c707abf5b",
        "colab": {
          "base_uri": "https://localhost:8080/"
        }
      },
      "outputs": [
        {
          "output_type": "stream",
          "name": "stdout",
          "text": [
            "[[1]]\n",
            "[1] \"Qing\"\n",
            "\n",
            "[[2]]\n",
            "[1] \"Françoise\"\n",
            "\n",
            "[[3]]\n",
            "[1] \"Raúl\"\n",
            "\n",
            "[[4]]\n",
            "[1] \"Bjork\"\n",
            "\n",
            "[[5]]\n",
            "[1] \"Marie\"\n",
            "\n",
            "[[6]]\n",
            "[1] \"Jim\"\n",
            "\n",
            "[[7]]\n",
            "[1] \"Tere\"\n",
            "\n",
            "[[8]]\n",
            "[1] \"Tina\"\n",
            "\n"
          ]
        }
      ],
      "source": [
        "%%R\n",
        "namesR"
      ]
    },
    {
      "cell_type": "markdown",
      "metadata": {
        "id": "_y7hce_8tWgr"
      },
      "source": [
        "## 2. Accessing"
      ]
    },
    {
      "cell_type": "code",
      "execution_count": null,
      "metadata": {
        "id": "Hp4CogsCtWgr",
        "outputId": "640c0b68-ed3f-476d-a0bc-73993d329411",
        "colab": {
          "base_uri": "https://localhost:8080/"
        }
      },
      "outputs": [
        {
          "output_type": "execute_result",
          "data": {
            "text/plain": [
              "32"
            ]
          },
          "metadata": {},
          "execution_count": 9
        }
      ],
      "source": [
        "# Keep in mind the positions in Python start in **0**.\n",
        "agesP[0]"
      ]
    },
    {
      "cell_type": "code",
      "execution_count": null,
      "metadata": {
        "id": "LcIBAZEr7ml_",
        "outputId": "58300cbb-febf-4547-ede2-70b64ebab42d",
        "colab": {
          "base_uri": "https://localhost:8080/"
        }
      },
      "outputs": [
        {
          "output_type": "execute_result",
          "data": {
            "text/plain": [
              "int"
            ]
          },
          "metadata": {},
          "execution_count": 10
        }
      ],
      "source": [
        "type(agesP[0])"
      ]
    },
    {
      "cell_type": "code",
      "execution_count": null,
      "metadata": {
        "id": "bZalkSyg7ozY",
        "outputId": "d833b15c-4c79-4a2f-d9df-08bbf78463b4",
        "colab": {
          "base_uri": "https://localhost:8080/"
        }
      },
      "outputs": [
        {
          "output_type": "stream",
          "name": "stdout",
          "text": [
            "[1] 32\n"
          ]
        }
      ],
      "source": [
        "%%R\n",
        "agesR[[1]]"
      ]
    },
    {
      "cell_type": "code",
      "execution_count": null,
      "metadata": {
        "id": "Z_DmJ2Cj7qic",
        "outputId": "6e77db82-afb8-446c-d72f-522d08421d19",
        "colab": {
          "base_uri": "https://localhost:8080/"
        }
      },
      "outputs": [
        {
          "output_type": "stream",
          "name": "stdout",
          "text": [
            "[1] \"double\"\n"
          ]
        }
      ],
      "source": [
        "%%R\n",
        "typeof(agesR[[1]])"
      ]
    },
    {
      "cell_type": "code",
      "execution_count": null,
      "metadata": {
        "id": "hvaThvo_8-ZB",
        "outputId": "01f6096a-6a4b-4442-fbdc-d16277f24425",
        "colab": {
          "base_uri": "https://localhost:8080/"
        }
      },
      "outputs": [
        {
          "output_type": "stream",
          "name": "stdout",
          "text": [
            "[[1]]\n",
            "[1] 32\n",
            "\n"
          ]
        }
      ],
      "source": [
        "%%R\n",
        "agesR[1]"
      ]
    },
    {
      "cell_type": "code",
      "execution_count": null,
      "metadata": {
        "id": "1tUwi0-M82fp",
        "outputId": "b06f3330-ff36-44c5-d0d5-91a0990a19c7",
        "colab": {
          "base_uri": "https://localhost:8080/"
        }
      },
      "outputs": [
        {
          "output_type": "stream",
          "name": "stdout",
          "text": [
            "[1] \"list\"\n"
          ]
        }
      ],
      "source": [
        "%%R\n",
        "typeof(agesR[1])"
      ]
    },
    {
      "cell_type": "code",
      "execution_count": null,
      "metadata": {
        "id": "MuQtAvsH-rJw",
        "outputId": "c457f8ae-6bb5-4feb-f553-d4b9a4b1fc6a",
        "colab": {
          "base_uri": "https://localhost:8080/",
          "height": 35
        }
      },
      "outputs": [
        {
          "output_type": "execute_result",
          "data": {
            "text/plain": [
              "'Portugal'"
            ],
            "application/vnd.google.colaboratory.intrinsic+json": {
              "type": "string"
            }
          },
          "metadata": {},
          "execution_count": 15
        }
      ],
      "source": [
        "#last element\n",
        "countryP[-1]"
      ]
    },
    {
      "cell_type": "code",
      "execution_count": null,
      "metadata": {
        "id": "Ffzl7qci-yzx",
        "outputId": "c25b96d7-45e2-4399-ceef-a1baa0fcc235",
        "colab": {
          "base_uri": "https://localhost:8080/"
        }
      },
      "outputs": [
        {
          "output_type": "stream",
          "name": "stdout",
          "text": [
            "[[1]]\n",
            "[1] \"Portugal\"\n",
            "\n"
          ]
        }
      ],
      "source": [
        "%%R\n",
        "tail(countryR,1)"
      ]
    },
    {
      "cell_type": "markdown",
      "metadata": {
        "id": "hAq14dMo8TnG"
      },
      "source": [
        "### Slices"
      ]
    },
    {
      "cell_type": "code",
      "execution_count": null,
      "metadata": {
        "id": "pa7c_1M1tWgv",
        "outputId": "6424cca7-311f-40cd-cd79-28a46a24b5bc",
        "colab": {
          "base_uri": "https://localhost:8080/"
        }
      },
      "outputs": [
        {
          "output_type": "execute_result",
          "data": {
            "text/plain": [
              "[33, 28, 30]"
            ]
          },
          "metadata": {},
          "execution_count": 17
        }
      ],
      "source": [
        "# consecutive\n",
        "agesP[1:4] #second to fourth"
      ]
    },
    {
      "cell_type": "code",
      "execution_count": null,
      "metadata": {
        "id": "AF942YnF8yc9",
        "outputId": "ac69b2f4-96b0-4093-e80b-c60e2551fe26",
        "colab": {
          "base_uri": "https://localhost:8080/"
        }
      },
      "outputs": [
        {
          "output_type": "stream",
          "name": "stdout",
          "text": [
            "[[1]]\n",
            "[1] 33\n",
            "\n",
            "[[2]]\n",
            "[1] 28\n",
            "\n",
            "[[3]]\n",
            "[1] 30\n",
            "\n"
          ]
        }
      ],
      "source": [
        "%%R\n",
        "agesR[2:4]"
      ]
    },
    {
      "cell_type": "code",
      "execution_count": null,
      "metadata": {
        "id": "XSO50xLN9MZB",
        "outputId": "6d73836f-4152-4f88-9064-36e3673d0c78",
        "colab": {
          "base_uri": "https://localhost:8080/"
        }
      },
      "outputs": [
        {
          "output_type": "execute_result",
          "data": {
            "text/plain": [
              "[33, 30, 33, 27]"
            ]
          },
          "metadata": {},
          "execution_count": 19
        }
      ],
      "source": [
        "# non consecutive with step or pattern\n",
        "agesP[1:8:2] # second to eight step 2"
      ]
    },
    {
      "cell_type": "code",
      "execution_count": null,
      "metadata": {
        "id": "J5V5_Cxl_Avj",
        "outputId": "0440f4d3-bc90-4e68-bbb5-b06a7d9a5e6a",
        "colab": {
          "base_uri": "https://localhost:8080/"
        }
      },
      "outputs": [
        {
          "output_type": "stream",
          "name": "stdout",
          "text": [
            "[[1]]\n",
            "[1] 33\n",
            "\n",
            "[[2]]\n",
            "[1] 30\n",
            "\n",
            "[[3]]\n",
            "[1] 33\n",
            "\n",
            "[[4]]\n",
            "[1] 27\n",
            "\n"
          ]
        }
      ],
      "source": [
        "%%R\n",
        "agesR[seq(2,8,2)]"
      ]
    },
    {
      "cell_type": "code",
      "execution_count": null,
      "metadata": {
        "id": "p8h88eUjtWg1",
        "outputId": "7a21b0fc-6d5e-4ab7-d910-d778b9cc5813",
        "colab": {
          "base_uri": "https://localhost:8080/"
        }
      },
      "outputs": [
        {
          "output_type": "execute_result",
          "data": {
            "text/plain": [
              "[32, 28, 30]"
            ]
          },
          "metadata": {},
          "execution_count": 21
        }
      ],
      "source": [
        "# non consecutive without step or pattern\n",
        "keepIndex=[0, 2, 3]\n",
        "[agesP[i] for i in keepIndex]\n"
      ]
    },
    {
      "cell_type": "code",
      "execution_count": null,
      "metadata": {
        "id": "c8RpFx1dAEmz",
        "outputId": "ed926d9e-6080-464a-f94b-4c3c95d04ea4",
        "colab": {
          "base_uri": "https://localhost:8080/"
        }
      },
      "outputs": [
        {
          "output_type": "stream",
          "name": "stdout",
          "text": [
            "[[1]]\n",
            "[1] 32\n",
            "\n",
            "[[2]]\n",
            "[1] 28\n",
            "\n",
            "[[3]]\n",
            "[1] 30\n",
            "\n"
          ]
        }
      ],
      "source": [
        "%%R\n",
        "agesR[c(1,3,4)]"
      ]
    },
    {
      "cell_type": "markdown",
      "metadata": {
        "id": "3HdLpDektWg6"
      },
      "source": [
        "## Replacing"
      ]
    },
    {
      "cell_type": "markdown",
      "metadata": {
        "id": "W9tJhxjeBMyX"
      },
      "source": [
        "### by Position"
      ]
    },
    {
      "cell_type": "code",
      "execution_count": null,
      "metadata": {
        "id": "Q5mtP1j8tWg7",
        "outputId": "ae80c209-81fa-4470-87fc-071e2d4ab6bf",
        "colab": {
          "base_uri": "https://localhost:8080/"
        }
      },
      "outputs": [
        {
          "output_type": "execute_result",
          "data": {
            "text/plain": [
              "['China', 'Senegal', 'Spain', 'Norway', 'Korea', 'USA', 'Bolivia', 'Portugal']"
            ]
          },
          "metadata": {},
          "execution_count": 23
        }
      ],
      "source": [
        "countryP[2]=\"Spain\"\n",
        "\n",
        "# list changed:\n",
        "countryP"
      ]
    },
    {
      "cell_type": "code",
      "execution_count": null,
      "metadata": {
        "id": "Bq1cr1VPBRJz",
        "outputId": "496bec3e-196e-45a9-d810-dd8d5758395a",
        "colab": {
          "base_uri": "https://localhost:8080/"
        }
      },
      "outputs": [
        {
          "output_type": "stream",
          "name": "stdout",
          "text": [
            "[[1]]\n",
            "[1] \"China\"\n",
            "\n",
            "[[2]]\n",
            "[1] \"Senegal\"\n",
            "\n",
            "[[3]]\n",
            "[1] \"Spain\"\n",
            "\n",
            "[[4]]\n",
            "[1] \"Norway\"\n",
            "\n",
            "[[5]]\n",
            "[1] \"Korea\"\n",
            "\n",
            "[[6]]\n",
            "[1] \"USA\"\n",
            "\n",
            "[[7]]\n",
            "[1] \"Bolivia\"\n",
            "\n",
            "[[8]]\n",
            "[1] \"Portugal\"\n",
            "\n"
          ]
        }
      ],
      "source": [
        "%%R\n",
        "countryR[[3]]=\"Spain\"\n",
        "\n",
        "# list changed:\n",
        "countryR"
      ]
    },
    {
      "cell_type": "markdown",
      "metadata": {
        "id": "i3KudD3Don96"
      },
      "source": [
        "### By Value"
      ]
    },
    {
      "cell_type": "code",
      "execution_count": null,
      "metadata": {
        "id": "Nf9PJWMjqiNI",
        "outputId": "929324bc-efa8-4693-de61-c4178931255f",
        "colab": {
          "base_uri": "https://localhost:8080/"
        }
      },
      "outputs": [
        {
          "output_type": "execute_result",
          "data": {
            "text/plain": [
              "['PR China',\n",
              " 'Senegal',\n",
              " 'Spain',\n",
              " 'Norway',\n",
              " 'Korea',\n",
              " 'USA',\n",
              " 'Bolivia',\n",
              " 'Portugal']"
            ]
          },
          "metadata": {},
          "execution_count": 25
        }
      ],
      "source": [
        "\n",
        "countryP[countryP==\"China\"]=\"PR China\"\n",
        "countryP"
      ]
    },
    {
      "cell_type": "code",
      "execution_count": null,
      "metadata": {
        "id": "ZozgXyECpjy2",
        "outputId": "33ec2774-d006-4170-ec13-f7c394ec6203",
        "colab": {
          "base_uri": "https://localhost:8080/"
        }
      },
      "outputs": [
        {
          "output_type": "stream",
          "name": "stdout",
          "text": [
            "[[1]]\n",
            "[1] \"PR China\"\n",
            "\n",
            "[[2]]\n",
            "[1] \"Senegal\"\n",
            "\n",
            "[[3]]\n",
            "[1] \"Spain\"\n",
            "\n",
            "[[4]]\n",
            "[1] \"Norway\"\n",
            "\n",
            "[[5]]\n",
            "[1] \"Korea\"\n",
            "\n",
            "[[6]]\n",
            "[1] \"USA\"\n",
            "\n",
            "[[7]]\n",
            "[1] \"Bolivia\"\n",
            "\n",
            "[[8]]\n",
            "[1] \"Portugal\"\n",
            "\n"
          ]
        }
      ],
      "source": [
        "%%R\n",
        "countryR[countryR=='China']=\"PR China\"\n",
        "countryR"
      ]
    },
    {
      "cell_type": "markdown",
      "metadata": {
        "id": "_CF8wYu0tWhH"
      },
      "source": [
        "## Deleting"
      ]
    },
    {
      "cell_type": "markdown",
      "metadata": {
        "id": "bjYzRXv2rB2r"
      },
      "source": [
        "### By Position"
      ]
    },
    {
      "cell_type": "code",
      "execution_count": null,
      "metadata": {
        "id": "ghWSnmzftWhH",
        "outputId": "b52efea5-14ea-475f-dbad-892956c3e4a2",
        "colab": {
          "base_uri": "https://localhost:8080/"
        }
      },
      "outputs": [
        {
          "output_type": "execute_result",
          "data": {
            "text/plain": [
              "['PR China', 'Senegal', 'Spain', 'Norway', 'Korea', 'USA', 'Bolivia']"
            ]
          },
          "metadata": {},
          "execution_count": 27
        }
      ],
      "source": [
        "del countryP[-1] #last value\n",
        "\n",
        "# list changed:\n",
        "countryP"
      ]
    },
    {
      "cell_type": "code",
      "execution_count": null,
      "metadata": {
        "id": "h6UsIzY5tIgY",
        "outputId": "16d5bc80-ca3c-4224-c4a6-d3fbbcc24039",
        "colab": {
          "base_uri": "https://localhost:8080/"
        }
      },
      "outputs": [
        {
          "output_type": "stream",
          "name": "stdout",
          "text": [
            "[[1]]\n",
            "[1] \"PR China\"\n",
            "\n",
            "[[2]]\n",
            "[1] \"Senegal\"\n",
            "\n",
            "[[3]]\n",
            "[1] \"Spain\"\n",
            "\n",
            "[[4]]\n",
            "[1] \"Norway\"\n",
            "\n",
            "[[5]]\n",
            "[1] \"Korea\"\n",
            "\n",
            "[[6]]\n",
            "[1] \"USA\"\n",
            "\n",
            "[[7]]\n",
            "[1] \"Bolivia\"\n",
            "\n"
          ]
        }
      ],
      "source": [
        "%%R\n",
        "countryR[length(countryR)]=NULL\n",
        "countryR"
      ]
    },
    {
      "cell_type": "code",
      "execution_count": null,
      "metadata": {
        "id": "EVla5Ov2tWhM",
        "outputId": "83b61938-40f2-4d20-cb49-428a298f03d8",
        "colab": {
          "base_uri": "https://localhost:8080/"
        }
      },
      "outputs": [
        {
          "output_type": "execute_result",
          "data": {
            "text/plain": [
              "[1, 5, 6]"
            ]
          },
          "metadata": {},
          "execution_count": 29
        }
      ],
      "source": [
        "# 'del' works for several positions\n",
        "\n",
        "listP=[1,2,3,4,5,6]\n",
        "del listP[1:4]\n",
        "\n",
        "#now:\n",
        "listP"
      ]
    },
    {
      "cell_type": "code",
      "execution_count": null,
      "metadata": {
        "id": "hquozQUutoXe",
        "outputId": "49d1541c-cb05-4eb9-ce74-e2601f3a1f81",
        "colab": {
          "base_uri": "https://localhost:8080/"
        }
      },
      "outputs": [
        {
          "output_type": "stream",
          "name": "stdout",
          "text": [
            "[[1]]\n",
            "[1] 1\n",
            "\n",
            "[[2]]\n",
            "[1] 5\n",
            "\n",
            "[[3]]\n",
            "[1] 6\n",
            "\n"
          ]
        }
      ],
      "source": [
        "%%R\n",
        "\n",
        "listR=list(1,2,3,4,5,6)\n",
        "listR[2:4]=NULL\n",
        "\n",
        "#now:\n",
        "listR"
      ]
    },
    {
      "cell_type": "code",
      "execution_count": null,
      "metadata": {
        "id": "4Sc0LyKDuJoz",
        "outputId": "84c50f66-ead4-4c22-f8f7-322f44e150c5",
        "colab": {
          "base_uri": "https://localhost:8080/"
        }
      },
      "outputs": [
        {
          "output_type": "execute_result",
          "data": {
            "text/plain": [
              "[10, 30, 50]"
            ]
          },
          "metadata": {},
          "execution_count": 31
        }
      ],
      "source": [
        "# non consecutive\n",
        "listP=[10,11,30,33,50,55]\n",
        "byeIndex=[1, 3, 5]\n",
        "listP=[listP[i] for i in range(len(listP)) if not i in byeIndex]\n",
        "listP"
      ]
    },
    {
      "cell_type": "code",
      "execution_count": null,
      "metadata": {
        "id": "A38KkgtGvpdv",
        "outputId": "c542e638-43b6-4608-bd8c-b7dc86a79ce3",
        "colab": {
          "base_uri": "https://localhost:8080/"
        }
      },
      "outputs": [
        {
          "output_type": "stream",
          "name": "stdout",
          "text": [
            "[[1]]\n",
            "[1] 11\n",
            "\n",
            "[[2]]\n",
            "[1] 33\n",
            "\n",
            "[[3]]\n",
            "[1] 55\n",
            "\n"
          ]
        }
      ],
      "source": [
        "%%R\n",
        "listR=list(11,22,33,44,55,66)\n",
        "listR[c(2,4,6)]=NULL\n",
        "listR"
      ]
    },
    {
      "cell_type": "markdown",
      "metadata": {
        "id": "rz-SxbVDyI_5"
      },
      "source": [
        "### by Value"
      ]
    },
    {
      "cell_type": "code",
      "execution_count": null,
      "metadata": {
        "id": "kQCwXCw3tWhO",
        "outputId": "1e178353-8059-4654-8212-55a584fcb94a",
        "colab": {
          "base_uri": "https://localhost:8080/"
        }
      },
      "outputs": [
        {
          "output_type": "execute_result",
          "data": {
            "text/plain": [
              "[1, 45, 'b', 'a']"
            ]
          },
          "metadata": {},
          "execution_count": 33
        }
      ],
      "source": [
        "# by value\n",
        "listP=[1,'a',45,'b','a']\n",
        "listP.remove('a')\n",
        "\n",
        "# list changed:\n",
        "listP # just first ocurrence of value!!"
      ]
    },
    {
      "cell_type": "code",
      "execution_count": null,
      "metadata": {
        "id": "GUi3v8hqtWhU",
        "outputId": "0262f6de-4902-4220-8923-098f05b38674",
        "colab": {
          "base_uri": "https://localhost:8080/"
        }
      },
      "outputs": [
        {
          "output_type": "execute_result",
          "data": {
            "text/plain": [
              "[1, 45, 'b']"
            ]
          },
          "metadata": {},
          "execution_count": 34
        }
      ],
      "source": [
        "# deleting every  value:\n",
        "\n",
        "listP=[1,'a',45,'b','a']\n",
        "listP=[p for p in listP if not p in ['a']]\n",
        "\n",
        "# you get:\n",
        "listP"
      ]
    },
    {
      "cell_type": "code",
      "execution_count": null,
      "metadata": {
        "id": "fSrbGThNzuxk",
        "outputId": "0195ab29-230a-4650-9a53-e48c7c1fd73a",
        "colab": {
          "base_uri": "https://localhost:8080/"
        }
      },
      "outputs": [
        {
          "output_type": "stream",
          "name": "stdout",
          "text": [
            "[[1]]\n",
            "[1] 1\n",
            "\n",
            "[[2]]\n",
            "[1] 45\n",
            "\n",
            "[[3]]\n",
            "[1] \"b\"\n",
            "\n"
          ]
        }
      ],
      "source": [
        "%%R\n",
        "\n",
        "listR=list(1,'a',45,'b','a')\n",
        "listR=listR[!listR %in% list('a')]\n",
        "listR\n"
      ]
    },
    {
      "cell_type": "markdown",
      "metadata": {
        "id": "JzcKbpXptWhX"
      },
      "source": [
        "## Inserting values"
      ]
    },
    {
      "cell_type": "code",
      "execution_count": null,
      "metadata": {
        "id": "or5OmtestWhY",
        "outputId": "59fb8589-c102-4cdd-a33e-0edc7febc3d0",
        "colab": {
          "base_uri": "https://localhost:8080/"
        }
      },
      "outputs": [
        {
          "output_type": "execute_result",
          "data": {
            "text/plain": [
              "[1, 'a', 45, 'b', 'a', 'cde']"
            ]
          },
          "metadata": {},
          "execution_count": 36
        }
      ],
      "source": [
        "# at the end\n",
        "listP=[1,'a',45,'b','a']\n",
        "listP.append(\"cde\")\n",
        "listP"
      ]
    },
    {
      "cell_type": "code",
      "execution_count": null,
      "metadata": {
        "id": "QCiOC5fG3O42",
        "outputId": "af067ba3-292f-4c29-f666-c5e8db2cf702",
        "colab": {
          "base_uri": "https://localhost:8080/"
        }
      },
      "outputs": [
        {
          "output_type": "stream",
          "name": "stdout",
          "text": [
            "[[1]]\n",
            "[1] 1\n",
            "\n",
            "[[2]]\n",
            "[1] \"a\"\n",
            "\n",
            "[[3]]\n",
            "[1] 45\n",
            "\n",
            "[[4]]\n",
            "[1] \"b\"\n",
            "\n",
            "[[5]]\n",
            "[1] \"a\"\n",
            "\n",
            "[[6]]\n",
            "[1] \"cde\"\n",
            "\n"
          ]
        }
      ],
      "source": [
        "%%R\n",
        "listR=list(1,'a',45,'b','a')\n",
        "listR=append(listR,'cde')\n",
        "listR"
      ]
    },
    {
      "cell_type": "code",
      "execution_count": null,
      "metadata": {
        "id": "GB4IycLs32Ya",
        "outputId": "65ab348c-cac7-4f1d-901a-12d24f606a84",
        "colab": {
          "base_uri": "https://localhost:8080/"
        }
      },
      "outputs": [
        {
          "output_type": "execute_result",
          "data": {
            "text/plain": [
              "[1, 'a', 'cde', 45, 'b', 'a']"
            ]
          },
          "metadata": {},
          "execution_count": 38
        }
      ],
      "source": [
        "# specific position\n",
        "listP=[1,'a',45,'b','a']\n",
        "listP.insert(2,\"cde\")\n",
        "listP"
      ]
    },
    {
      "cell_type": "code",
      "execution_count": null,
      "metadata": {
        "id": "IcP2en363_ii",
        "outputId": "e72ec257-c053-48c2-e487-af371761d727",
        "colab": {
          "base_uri": "https://localhost:8080/"
        }
      },
      "outputs": [
        {
          "output_type": "stream",
          "name": "stdout",
          "text": [
            "[[1]]\n",
            "[1] 1\n",
            "\n",
            "[[2]]\n",
            "[1] \"a\"\n",
            "\n",
            "[[3]]\n",
            "[1] \"cde\"\n",
            "\n",
            "[[4]]\n",
            "[1] 45\n",
            "\n",
            "[[5]]\n",
            "[1] \"b\"\n",
            "\n",
            "[[6]]\n",
            "[1] \"a\"\n",
            "\n"
          ]
        }
      ],
      "source": [
        "%%R\n",
        "listR=list(1,'a',45,'b','a')\n",
        "listR=append(listR,'cde',after=2)\n",
        "listR"
      ]
    },
    {
      "cell_type": "markdown",
      "metadata": {
        "id": "ceqfkORcK9vt"
      },
      "source": [
        "## Concatenating"
      ]
    },
    {
      "cell_type": "code",
      "execution_count": null,
      "metadata": {
        "id": "4nFczku8K_3k",
        "outputId": "6217e847-7d9b-42f6-b04d-12db023d87d1",
        "colab": {
          "base_uri": "https://localhost:8080/"
        }
      },
      "outputs": [
        {
          "output_type": "execute_result",
          "data": {
            "text/plain": [
              "[1, 2, 3, 'a', 'b', 'c']"
            ]
          },
          "metadata": {},
          "execution_count": 40
        }
      ],
      "source": [
        "listA_P=[1,2,3]\n",
        "listB_P=['a', 'b', 'c']\n",
        "listA_P + listB_P"
      ]
    },
    {
      "cell_type": "code",
      "execution_count": null,
      "metadata": {
        "id": "gvCtdID3bgm-",
        "outputId": "38ba1fd2-2326-4eda-dc03-96b052b256f9",
        "colab": {
          "base_uri": "https://localhost:8080/"
        }
      },
      "outputs": [
        {
          "output_type": "execute_result",
          "data": {
            "text/plain": [
              "[1, 2, 3, 'a', 'b', 'c']"
            ]
          },
          "metadata": {},
          "execution_count": 41
        }
      ],
      "source": [
        "listA2_P=[1,2,3]\n",
        "listB2_P=['a', 'b', 'c']\n",
        "listA2_P.extend(listB2_P)\n",
        "listA2_P"
      ]
    },
    {
      "cell_type": "code",
      "execution_count": null,
      "metadata": {
        "id": "hajS5MgJLRj9",
        "outputId": "8be55551-5a15-4e94-ef79-69d1f4bf121e",
        "colab": {
          "base_uri": "https://localhost:8080/"
        }
      },
      "outputs": [
        {
          "output_type": "stream",
          "name": "stdout",
          "text": [
            "[[1]]\n",
            "[1] 1\n",
            "\n",
            "[[2]]\n",
            "[1] 2\n",
            "\n",
            "[[3]]\n",
            "[1] 3\n",
            "\n",
            "[[4]]\n",
            "[1] \"a\"\n",
            "\n",
            "[[5]]\n",
            "[1] \"b\"\n",
            "\n",
            "[[6]]\n",
            "[1] \"c\"\n",
            "\n"
          ]
        }
      ],
      "source": [
        "%%R\n",
        "listA_R=list(1,2,3)\n",
        "listB_R=list('a', 'b', 'c')\n",
        "append(listA_R, listB_R)"
      ]
    },
    {
      "cell_type": "code",
      "execution_count": null,
      "metadata": {
        "id": "buD_S1X6MUje",
        "outputId": "a6495ad6-1fed-41df-d36a-7b5813b0faba",
        "colab": {
          "base_uri": "https://localhost:8080/"
        }
      },
      "outputs": [
        {
          "output_type": "execute_result",
          "data": {
            "text/plain": [
              "[1, 2, 3, ['a', 'b', 'c']]"
            ]
          },
          "metadata": {},
          "execution_count": 43
        }
      ],
      "source": [
        "#notice\n",
        "listA1_P=[1,2,3]\n",
        "listB1_P=['a', 'b', 'c']\n",
        "listA1_P.append(listB1_P)\n",
        "listA1_P"
      ]
    },
    {
      "cell_type": "code",
      "execution_count": null,
      "metadata": {
        "id": "MxaH2JXNLggB",
        "outputId": "4c8ef3f7-90d2-4b20-f026-c99999107bf5",
        "colab": {
          "base_uri": "https://localhost:8080/"
        }
      },
      "outputs": [
        {
          "output_type": "stream",
          "name": "stdout",
          "text": [
            "[[1]]\n",
            "[1] 1\n",
            "\n",
            "[[2]]\n",
            "[1] 2\n",
            "\n",
            "[[3]]\n",
            "[1] 3\n",
            "\n",
            "[[4]]\n",
            "[[4]][[1]]\n",
            "[1] \"a\"\n",
            "\n",
            "[[4]][[2]]\n",
            "[1] \"b\"\n",
            "\n",
            "[[4]][[3]]\n",
            "[1] \"c\"\n",
            "\n",
            "\n"
          ]
        }
      ],
      "source": [
        "%%R\n",
        "append(listA_R, list(listB_R))"
      ]
    }
  ],
  "metadata": {
    "anaconda-cloud": {
      "attach-environment": true,
      "summary": "test"
    },
    "colab": {
      "provenance": [],
      "include_colab_link": true
    },
    "hide_input": false,
    "kernelspec": {
      "display_name": "Python 3 (ipykernel)",
      "language": "python",
      "name": "python3"
    },
    "language_info": {
      "codemirror_mode": {
        "name": "ipython",
        "version": 3
      },
      "file_extension": ".py",
      "mimetype": "text/x-python",
      "name": "python",
      "nbconvert_exporter": "python",
      "pygments_lexer": "ipython3",
      "version": "3.12.0"
    }
  },
  "nbformat": 4,
  "nbformat_minor": 0
}