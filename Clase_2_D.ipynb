{
  "cells": [
    {
      "cell_type": "markdown",
      "metadata": {
        "id": "view-in-github",
        "colab_type": "text"
      },
      "source": [
        "<a href=\"https://colab.research.google.com/github/LuisPalominoR/Prueba1/blob/main/Clase_2_D.ipynb\" target=\"_parent\"><img src=\"https://colab.research.google.com/assets/colab-badge.svg\" alt=\"Open In Colab\"/></a>"
      ]
    },
    {
      "cell_type": "markdown",
      "metadata": {
        "id": "lNv7Ih8U1kYU"
      },
      "source": [
        "<a href=\"https://imgur.com/6U6q5jQ\"><img src=\"https://i.imgur.com/6U6q5jQ.png\" title=\"source: imgur.com\" /></a>\n"
      ]
    },
    {
      "cell_type": "markdown",
      "metadata": {
        "id": "6TqYtxaftWhf"
      },
      "source": [
        "<a target=\"_blank\" href=\"https://colab.research.google.com/github/PythonVersusR/basicDataStructures_tuples/blob/main/Python_Tuples.ipynb\">\n",
        "  <img src=\"https://colab.research.google.com/assets/colab-badge.svg\" alt=\"Open In Colab\"/>\n",
        "</a>\n",
        "\n",
        "#  **TUPLES**\n",
        "\n",
        "Tuples are inmutable structures in Python, they look like lists but do not share much of their functionality:"
      ]
    },
    {
      "cell_type": "code",
      "execution_count": 1,
      "metadata": {
        "id": "xcBxNtLDtWhg"
      },
      "outputs": [],
      "source": [
        "weekend=\"Friday\", \"Saturday\", \"Sunday\""
      ]
    },
    {
      "cell_type": "code",
      "execution_count": 2,
      "metadata": {
        "id": "i8YTGmf5jWz2",
        "colab": {
          "base_uri": "https://localhost:8080/"
        },
        "outputId": "a4875c29-1c5e-4404-8bd9-f2ab9d051e3b"
      },
      "outputs": [
        {
          "output_type": "execute_result",
          "data": {
            "text/plain": [
              "tuple"
            ]
          },
          "metadata": {},
          "execution_count": 2
        }
      ],
      "source": [
        "type(weekend)"
      ]
    },
    {
      "cell_type": "markdown",
      "metadata": {
        "id": "ii6lRXlZtWhj"
      },
      "source": [
        "You can access:"
      ]
    },
    {
      "cell_type": "code",
      "execution_count": 3,
      "metadata": {
        "id": "QtVsil3CtWhj",
        "colab": {
          "base_uri": "https://localhost:8080/",
          "height": 35
        },
        "outputId": "3cac6fa2-220f-4b63-9129-16658b812861"
      },
      "outputs": [
        {
          "output_type": "execute_result",
          "data": {
            "text/plain": [
              "'Friday'"
            ],
            "application/vnd.google.colaboratory.intrinsic+json": {
              "type": "string"
            }
          },
          "metadata": {},
          "execution_count": 3
        }
      ],
      "source": [
        "weekend[0]"
      ]
    },
    {
      "cell_type": "markdown",
      "metadata": {
        "id": "9VyDiWG0tWhn"
      },
      "source": [
        "But no other operation is allowed:"
      ]
    },
    {
      "cell_type": "code",
      "execution_count": 11,
      "metadata": {
        "id": "knEfvHt2Je_k"
      },
      "outputs": [],
      "source": [
        "#del weekend[0]"
      ]
    },
    {
      "cell_type": "code",
      "execution_count": 12,
      "metadata": {
        "id": "I2sT23Y1JmKI"
      },
      "outputs": [],
      "source": [
        "#weekend[0]='Viernes'"
      ]
    },
    {
      "cell_type": "code",
      "execution_count": 13,
      "metadata": {
        "id": "FegD3iFmJwDv"
      },
      "outputs": [],
      "source": [
        "#weekend[3]='Extra Holiday'"
      ]
    },
    {
      "cell_type": "markdown",
      "metadata": {
        "id": "j70EnHTHKL4k"
      },
      "source": [
        "You can concatenate two tuples into a new one:"
      ]
    },
    {
      "cell_type": "code",
      "execution_count": 8,
      "metadata": {
        "id": "JjWqrH2LJ-SE",
        "colab": {
          "base_uri": "https://localhost:8080/"
        },
        "outputId": "2b75a2c7-8908-447f-86c4-ccf067edeecb"
      },
      "outputs": [
        {
          "output_type": "execute_result",
          "data": {
            "text/plain": [
              "('Monday', 'Tuesday', 'Wednesday', 'Thursday')"
            ]
          },
          "metadata": {},
          "execution_count": 8
        }
      ],
      "source": [
        "otherDays='Monday','Tuesday', 'Wednesday', 'Thursday'\n",
        "otherDays"
      ]
    },
    {
      "cell_type": "code",
      "execution_count": 9,
      "metadata": {
        "id": "0Xl7NrbuKKvu",
        "colab": {
          "base_uri": "https://localhost:8080/"
        },
        "outputId": "c55ee495-33a2-4686-8ac3-63e77360c2c9"
      },
      "outputs": [
        {
          "output_type": "execute_result",
          "data": {
            "text/plain": [
              "('Friday', 'Saturday', 'Sunday', 'Monday', 'Tuesday', 'Wednesday', 'Thursday')"
            ]
          },
          "metadata": {},
          "execution_count": 9
        }
      ],
      "source": [
        "allDays=weekend + otherDays\n",
        "allDays"
      ]
    },
    {
      "cell_type": "markdown",
      "metadata": {
        "id": "QOLRbmojKcAl"
      },
      "source": [
        "But it has not altered any previous tuple."
      ]
    }
  ],
  "metadata": {
    "anaconda-cloud": {
      "attach-environment": true,
      "summary": "test"
    },
    "colab": {
      "provenance": [],
      "toc_visible": true,
      "include_colab_link": true
    },
    "hide_input": false,
    "kernelspec": {
      "display_name": "Python 3 (ipykernel)",
      "language": "python",
      "name": "python3"
    },
    "language_info": {
      "codemirror_mode": {
        "name": "ipython",
        "version": 3
      },
      "file_extension": ".py",
      "mimetype": "text/x-python",
      "name": "python",
      "nbconvert_exporter": "python",
      "pygments_lexer": "ipython3",
      "version": "3.12.0"
    }
  },
  "nbformat": 4,
  "nbformat_minor": 0
}